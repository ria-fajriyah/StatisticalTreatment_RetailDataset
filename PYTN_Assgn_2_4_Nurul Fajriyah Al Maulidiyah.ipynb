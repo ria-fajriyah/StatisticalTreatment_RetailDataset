{
 "cells": [
  {
   "cell_type": "markdown",
   "id": "135f6df7",
   "metadata": {},
   "source": [
    "Nama : Nurul Fajriyah Al Maulidiyah\n",
    "\n",
    "Kode : PYTN-KS14-001"
   ]
  },
  {
   "cell_type": "markdown",
   "id": "d7a5d1d5",
   "metadata": {},
   "source": [
    "# Statistical Treatment for Retail Dataset (NYC Property Sales)\n",
    "Kumpulan data ini adalah catatan dari setiap bangunan atau unit bangunan (apartemen, dll.) yang dijual di New York property market selama periode 12 bulan."
   ]
  },
  {
   "cell_type": "markdown",
   "id": "50cde565",
   "metadata": {},
   "source": [
    "## Import library yang dibutuhkan"
   ]
  },
  {
   "cell_type": "code",
   "execution_count": 1,
   "id": "b91b94d8",
   "metadata": {},
   "outputs": [],
   "source": [
    "import numpy as np\n",
    "import pandas as pd \n",
    "import matplotlib as mpl\n",
    "import matplotlib.pyplot as plt\n",
    "%matplotlib inline\n",
    "import math\n",
    "import statistics\n",
    "import scipy.stats\n",
    "import seaborn as sns\n",
    "import statsmodels.api as sm\n",
    "from IPython.display import Math, Latex\n",
    "from IPython.core.display import Image"
   ]
  },
  {
   "cell_type": "markdown",
   "id": "772737aa",
   "metadata": {},
   "source": [
    "## Membaca dataset "
   ]
  },
  {
   "cell_type": "code",
   "execution_count": 2,
   "id": "fa5360a6",
   "metadata": {
    "scrolled": false
   },
   "outputs": [
    {
     "data": {
      "text/html": [
       "<div>\n",
       "<style scoped>\n",
       "    .dataframe tbody tr th:only-of-type {\n",
       "        vertical-align: middle;\n",
       "    }\n",
       "\n",
       "    .dataframe tbody tr th {\n",
       "        vertical-align: top;\n",
       "    }\n",
       "\n",
       "    .dataframe thead th {\n",
       "        text-align: right;\n",
       "    }\n",
       "</style>\n",
       "<table border=\"1\" class=\"dataframe\">\n",
       "  <thead>\n",
       "    <tr style=\"text-align: right;\">\n",
       "      <th></th>\n",
       "      <th>Unnamed: 0</th>\n",
       "      <th>BOROUGH</th>\n",
       "      <th>NEIGHBORHOOD</th>\n",
       "      <th>BUILDING CLASS CATEGORY</th>\n",
       "      <th>TAX CLASS AT PRESENT</th>\n",
       "      <th>BLOCK</th>\n",
       "      <th>LOT</th>\n",
       "      <th>EASE-MENT</th>\n",
       "      <th>BUILDING CLASS AT PRESENT</th>\n",
       "      <th>ADDRESS</th>\n",
       "      <th>...</th>\n",
       "      <th>RESIDENTIAL UNITS</th>\n",
       "      <th>COMMERCIAL UNITS</th>\n",
       "      <th>TOTAL UNITS</th>\n",
       "      <th>LAND SQUARE FEET</th>\n",
       "      <th>GROSS SQUARE FEET</th>\n",
       "      <th>YEAR BUILT</th>\n",
       "      <th>TAX CLASS AT TIME OF SALE</th>\n",
       "      <th>BUILDING CLASS AT TIME OF SALE</th>\n",
       "      <th>SALE PRICE</th>\n",
       "      <th>SALE DATE</th>\n",
       "    </tr>\n",
       "  </thead>\n",
       "  <tbody>\n",
       "    <tr>\n",
       "      <th>0</th>\n",
       "      <td>4</td>\n",
       "      <td>1</td>\n",
       "      <td>ALPHABET CITY</td>\n",
       "      <td>07 RENTALS - WALKUP APARTMENTS</td>\n",
       "      <td>2A</td>\n",
       "      <td>392</td>\n",
       "      <td>6</td>\n",
       "      <td></td>\n",
       "      <td>C2</td>\n",
       "      <td>153 AVENUE B</td>\n",
       "      <td>...</td>\n",
       "      <td>5</td>\n",
       "      <td>0</td>\n",
       "      <td>5</td>\n",
       "      <td>1633</td>\n",
       "      <td>6440</td>\n",
       "      <td>1900</td>\n",
       "      <td>2</td>\n",
       "      <td>C2</td>\n",
       "      <td>6625000</td>\n",
       "      <td>2017-07-19 00:00:00</td>\n",
       "    </tr>\n",
       "    <tr>\n",
       "      <th>1</th>\n",
       "      <td>5</td>\n",
       "      <td>1</td>\n",
       "      <td>ALPHABET CITY</td>\n",
       "      <td>07 RENTALS - WALKUP APARTMENTS</td>\n",
       "      <td>2</td>\n",
       "      <td>399</td>\n",
       "      <td>26</td>\n",
       "      <td></td>\n",
       "      <td>C7</td>\n",
       "      <td>234 EAST 4TH   STREET</td>\n",
       "      <td>...</td>\n",
       "      <td>28</td>\n",
       "      <td>3</td>\n",
       "      <td>31</td>\n",
       "      <td>4616</td>\n",
       "      <td>18690</td>\n",
       "      <td>1900</td>\n",
       "      <td>2</td>\n",
       "      <td>C7</td>\n",
       "      <td>-</td>\n",
       "      <td>2016-12-14 00:00:00</td>\n",
       "    </tr>\n",
       "    <tr>\n",
       "      <th>2</th>\n",
       "      <td>6</td>\n",
       "      <td>1</td>\n",
       "      <td>ALPHABET CITY</td>\n",
       "      <td>07 RENTALS - WALKUP APARTMENTS</td>\n",
       "      <td>2</td>\n",
       "      <td>399</td>\n",
       "      <td>39</td>\n",
       "      <td></td>\n",
       "      <td>C7</td>\n",
       "      <td>197 EAST 3RD   STREET</td>\n",
       "      <td>...</td>\n",
       "      <td>16</td>\n",
       "      <td>1</td>\n",
       "      <td>17</td>\n",
       "      <td>2212</td>\n",
       "      <td>7803</td>\n",
       "      <td>1900</td>\n",
       "      <td>2</td>\n",
       "      <td>C7</td>\n",
       "      <td>-</td>\n",
       "      <td>2016-12-09 00:00:00</td>\n",
       "    </tr>\n",
       "    <tr>\n",
       "      <th>3</th>\n",
       "      <td>7</td>\n",
       "      <td>1</td>\n",
       "      <td>ALPHABET CITY</td>\n",
       "      <td>07 RENTALS - WALKUP APARTMENTS</td>\n",
       "      <td>2B</td>\n",
       "      <td>402</td>\n",
       "      <td>21</td>\n",
       "      <td></td>\n",
       "      <td>C4</td>\n",
       "      <td>154 EAST 7TH STREET</td>\n",
       "      <td>...</td>\n",
       "      <td>10</td>\n",
       "      <td>0</td>\n",
       "      <td>10</td>\n",
       "      <td>2272</td>\n",
       "      <td>6794</td>\n",
       "      <td>1913</td>\n",
       "      <td>2</td>\n",
       "      <td>C4</td>\n",
       "      <td>3936272</td>\n",
       "      <td>2016-09-23 00:00:00</td>\n",
       "    </tr>\n",
       "    <tr>\n",
       "      <th>4</th>\n",
       "      <td>8</td>\n",
       "      <td>1</td>\n",
       "      <td>ALPHABET CITY</td>\n",
       "      <td>07 RENTALS - WALKUP APARTMENTS</td>\n",
       "      <td>2A</td>\n",
       "      <td>404</td>\n",
       "      <td>55</td>\n",
       "      <td></td>\n",
       "      <td>C2</td>\n",
       "      <td>301 EAST 10TH   STREET</td>\n",
       "      <td>...</td>\n",
       "      <td>6</td>\n",
       "      <td>0</td>\n",
       "      <td>6</td>\n",
       "      <td>2369</td>\n",
       "      <td>4615</td>\n",
       "      <td>1900</td>\n",
       "      <td>2</td>\n",
       "      <td>C2</td>\n",
       "      <td>8000000</td>\n",
       "      <td>2016-11-17 00:00:00</td>\n",
       "    </tr>\n",
       "    <tr>\n",
       "      <th>...</th>\n",
       "      <td>...</td>\n",
       "      <td>...</td>\n",
       "      <td>...</td>\n",
       "      <td>...</td>\n",
       "      <td>...</td>\n",
       "      <td>...</td>\n",
       "      <td>...</td>\n",
       "      <td>...</td>\n",
       "      <td>...</td>\n",
       "      <td>...</td>\n",
       "      <td>...</td>\n",
       "      <td>...</td>\n",
       "      <td>...</td>\n",
       "      <td>...</td>\n",
       "      <td>...</td>\n",
       "      <td>...</td>\n",
       "      <td>...</td>\n",
       "      <td>...</td>\n",
       "      <td>...</td>\n",
       "      <td>...</td>\n",
       "      <td>...</td>\n",
       "    </tr>\n",
       "    <tr>\n",
       "      <th>84543</th>\n",
       "      <td>8409</td>\n",
       "      <td>5</td>\n",
       "      <td>WOODROW</td>\n",
       "      <td>02 TWO FAMILY DWELLINGS</td>\n",
       "      <td>1</td>\n",
       "      <td>7349</td>\n",
       "      <td>34</td>\n",
       "      <td></td>\n",
       "      <td>B9</td>\n",
       "      <td>37 QUAIL LANE</td>\n",
       "      <td>...</td>\n",
       "      <td>2</td>\n",
       "      <td>0</td>\n",
       "      <td>2</td>\n",
       "      <td>2400</td>\n",
       "      <td>2575</td>\n",
       "      <td>1998</td>\n",
       "      <td>1</td>\n",
       "      <td>B9</td>\n",
       "      <td>450000</td>\n",
       "      <td>2016-11-28 00:00:00</td>\n",
       "    </tr>\n",
       "    <tr>\n",
       "      <th>84544</th>\n",
       "      <td>8410</td>\n",
       "      <td>5</td>\n",
       "      <td>WOODROW</td>\n",
       "      <td>02 TWO FAMILY DWELLINGS</td>\n",
       "      <td>1</td>\n",
       "      <td>7349</td>\n",
       "      <td>78</td>\n",
       "      <td></td>\n",
       "      <td>B9</td>\n",
       "      <td>32 PHEASANT LANE</td>\n",
       "      <td>...</td>\n",
       "      <td>2</td>\n",
       "      <td>0</td>\n",
       "      <td>2</td>\n",
       "      <td>2498</td>\n",
       "      <td>2377</td>\n",
       "      <td>1998</td>\n",
       "      <td>1</td>\n",
       "      <td>B9</td>\n",
       "      <td>550000</td>\n",
       "      <td>2017-04-21 00:00:00</td>\n",
       "    </tr>\n",
       "    <tr>\n",
       "      <th>84545</th>\n",
       "      <td>8411</td>\n",
       "      <td>5</td>\n",
       "      <td>WOODROW</td>\n",
       "      <td>02 TWO FAMILY DWELLINGS</td>\n",
       "      <td>1</td>\n",
       "      <td>7351</td>\n",
       "      <td>60</td>\n",
       "      <td></td>\n",
       "      <td>B2</td>\n",
       "      <td>49 PITNEY AVENUE</td>\n",
       "      <td>...</td>\n",
       "      <td>2</td>\n",
       "      <td>0</td>\n",
       "      <td>2</td>\n",
       "      <td>4000</td>\n",
       "      <td>1496</td>\n",
       "      <td>1925</td>\n",
       "      <td>1</td>\n",
       "      <td>B2</td>\n",
       "      <td>460000</td>\n",
       "      <td>2017-07-05 00:00:00</td>\n",
       "    </tr>\n",
       "    <tr>\n",
       "      <th>84546</th>\n",
       "      <td>8412</td>\n",
       "      <td>5</td>\n",
       "      <td>WOODROW</td>\n",
       "      <td>22 STORE BUILDINGS</td>\n",
       "      <td>4</td>\n",
       "      <td>7100</td>\n",
       "      <td>28</td>\n",
       "      <td></td>\n",
       "      <td>K6</td>\n",
       "      <td>2730 ARTHUR KILL ROAD</td>\n",
       "      <td>...</td>\n",
       "      <td>0</td>\n",
       "      <td>7</td>\n",
       "      <td>7</td>\n",
       "      <td>208033</td>\n",
       "      <td>64117</td>\n",
       "      <td>2001</td>\n",
       "      <td>4</td>\n",
       "      <td>K6</td>\n",
       "      <td>11693337</td>\n",
       "      <td>2016-12-21 00:00:00</td>\n",
       "    </tr>\n",
       "    <tr>\n",
       "      <th>84547</th>\n",
       "      <td>8413</td>\n",
       "      <td>5</td>\n",
       "      <td>WOODROW</td>\n",
       "      <td>35 INDOOR PUBLIC AND CULTURAL FACILITIES</td>\n",
       "      <td>4</td>\n",
       "      <td>7105</td>\n",
       "      <td>679</td>\n",
       "      <td></td>\n",
       "      <td>P9</td>\n",
       "      <td>155 CLAY PIT ROAD</td>\n",
       "      <td>...</td>\n",
       "      <td>0</td>\n",
       "      <td>1</td>\n",
       "      <td>1</td>\n",
       "      <td>10796</td>\n",
       "      <td>2400</td>\n",
       "      <td>2006</td>\n",
       "      <td>4</td>\n",
       "      <td>P9</td>\n",
       "      <td>69300</td>\n",
       "      <td>2016-10-27 00:00:00</td>\n",
       "    </tr>\n",
       "  </tbody>\n",
       "</table>\n",
       "<p>84548 rows × 22 columns</p>\n",
       "</div>"
      ],
      "text/plain": [
       "       Unnamed: 0  BOROUGH   NEIGHBORHOOD  \\\n",
       "0               4        1  ALPHABET CITY   \n",
       "1               5        1  ALPHABET CITY   \n",
       "2               6        1  ALPHABET CITY   \n",
       "3               7        1  ALPHABET CITY   \n",
       "4               8        1  ALPHABET CITY   \n",
       "...           ...      ...            ...   \n",
       "84543        8409        5        WOODROW   \n",
       "84544        8410        5        WOODROW   \n",
       "84545        8411        5        WOODROW   \n",
       "84546        8412        5        WOODROW   \n",
       "84547        8413        5        WOODROW   \n",
       "\n",
       "                           BUILDING CLASS CATEGORY TAX CLASS AT PRESENT  \\\n",
       "0      07 RENTALS - WALKUP APARTMENTS                                2A   \n",
       "1      07 RENTALS - WALKUP APARTMENTS                                 2   \n",
       "2      07 RENTALS - WALKUP APARTMENTS                                 2   \n",
       "3      07 RENTALS - WALKUP APARTMENTS                                2B   \n",
       "4      07 RENTALS - WALKUP APARTMENTS                                2A   \n",
       "...                                            ...                  ...   \n",
       "84543  02 TWO FAMILY DWELLINGS                                        1   \n",
       "84544  02 TWO FAMILY DWELLINGS                                        1   \n",
       "84545  02 TWO FAMILY DWELLINGS                                        1   \n",
       "84546  22 STORE BUILDINGS                                             4   \n",
       "84547  35 INDOOR PUBLIC AND CULTURAL FACILITIES                       4   \n",
       "\n",
       "       BLOCK  LOT EASE-MENT BUILDING CLASS AT PRESENT                 ADDRESS  \\\n",
       "0        392    6                                  C2            153 AVENUE B   \n",
       "1        399   26                                  C7   234 EAST 4TH   STREET   \n",
       "2        399   39                                  C7   197 EAST 3RD   STREET   \n",
       "3        402   21                                  C4     154 EAST 7TH STREET   \n",
       "4        404   55                                  C2  301 EAST 10TH   STREET   \n",
       "...      ...  ...       ...                       ...                     ...   \n",
       "84543   7349   34                                  B9           37 QUAIL LANE   \n",
       "84544   7349   78                                  B9        32 PHEASANT LANE   \n",
       "84545   7351   60                                  B2        49 PITNEY AVENUE   \n",
       "84546   7100   28                                  K6   2730 ARTHUR KILL ROAD   \n",
       "84547   7105  679                                  P9       155 CLAY PIT ROAD   \n",
       "\n",
       "       ... RESIDENTIAL UNITS  COMMERCIAL UNITS  TOTAL UNITS  LAND SQUARE FEET  \\\n",
       "0      ...                 5                 0            5              1633   \n",
       "1      ...                28                 3           31              4616   \n",
       "2      ...                16                 1           17              2212   \n",
       "3      ...                10                 0           10              2272   \n",
       "4      ...                 6                 0            6              2369   \n",
       "...    ...               ...               ...          ...               ...   \n",
       "84543  ...                 2                 0            2              2400   \n",
       "84544  ...                 2                 0            2              2498   \n",
       "84545  ...                 2                 0            2              4000   \n",
       "84546  ...                 0                 7            7            208033   \n",
       "84547  ...                 0                 1            1             10796   \n",
       "\n",
       "       GROSS SQUARE FEET YEAR BUILT TAX CLASS AT TIME OF SALE  \\\n",
       "0                   6440       1900                         2   \n",
       "1                  18690       1900                         2   \n",
       "2                   7803       1900                         2   \n",
       "3                   6794       1913                         2   \n",
       "4                   4615       1900                         2   \n",
       "...                  ...        ...                       ...   \n",
       "84543               2575       1998                         1   \n",
       "84544               2377       1998                         1   \n",
       "84545               1496       1925                         1   \n",
       "84546              64117       2001                         4   \n",
       "84547               2400       2006                         4   \n",
       "\n",
       "       BUILDING CLASS AT TIME OF SALE  SALE PRICE            SALE DATE  \n",
       "0                                  C2     6625000  2017-07-19 00:00:00  \n",
       "1                                  C7         -    2016-12-14 00:00:00  \n",
       "2                                  C7         -    2016-12-09 00:00:00  \n",
       "3                                  C4     3936272  2016-09-23 00:00:00  \n",
       "4                                  C2     8000000  2016-11-17 00:00:00  \n",
       "...                               ...         ...                  ...  \n",
       "84543                              B9      450000  2016-11-28 00:00:00  \n",
       "84544                              B9      550000  2017-04-21 00:00:00  \n",
       "84545                              B2      460000  2017-07-05 00:00:00  \n",
       "84546                              K6    11693337  2016-12-21 00:00:00  \n",
       "84547                              P9       69300  2016-10-27 00:00:00  \n",
       "\n",
       "[84548 rows x 22 columns]"
      ]
     },
     "execution_count": 2,
     "metadata": {},
     "output_type": "execute_result"
    }
   ],
   "source": [
    "df_sales = pd.read_csv('dataset/nyc-rolling-sales.csv')\n",
    "df_sales"
   ]
  },
  {
   "cell_type": "markdown",
   "id": "fd022e7e",
   "metadata": {},
   "source": [
    "**Keterangan**\n",
    "\n",
    "- `Borough` : kode digit untuk wilayah tempat properti yaitu (1)Manhattan, (2)Bronx, (3)Brooklyn, (4)Queens , dan (5)Staten Island\n",
    "- `Neighborhood` : assessor departemen keuangan menentukan nama lingkungan dalam proses menilai properti\n",
    "- `Building Class Category` : bidang yang disertakan agar pengguna Rolling Sales Files dapat dengan mudah mengidentifikasi properti serupa dengan penggunaan luas (mis. Rumah Satu Keluarga)\n",
    "- `Tax Class at Present` : setiap properti di kota ditetapkan ke salah satu dari empat kelas pajak (kelas 1, 2, 3, dan 4) berdasarkan penggunaan properti\n",
    "- `Block` : tax block adalah sub-divisi dari borough yang merupakan tempat properti sebenarnya berada\n",
    "- `Lot` : tax lot adalah subdivisi dari tax block dan mewakili lokasi unik properti\n",
    "- `Easement` : merupakan hak, seperti hak jalan yang memungkinkan entitas untuk menggunakan properti nyata orang lain secara terbatas\n",
    "- `Building Class at Present` : klasifikasi bangunan digunakan untuk menggambarkan penggunaan konstruktif properti saat ini\n",
    "- `Address` : alamat jalan properti seperti yang tercantum di file penjualan\n",
    "- `Zip Code` : kode pos properti\n",
    "- `Commercial Unit` : jumlah unit komersial di properti yang terdaftar\n",
    "- `Total Units` : jumlah total unit di properti yang terdaftar\n",
    "- `Land Square Feet` : luas tanah properti tercantum dalam kaki persegi\n",
    "- `Gross Square Feet` : luas total semua lantai bangunan yang diukur dari permukaan luar bangunan, termasuk luas tanah dan ruang di dalam setiap bangunan atau struktur di properti\n",
    "- `Year Built` : tahun bangunan di properti itu dibangun\n",
    "- `Building Class at Time of Sale` : klasifikasi bangunan digunakan untuk menggambarkan penggunaan konstruktif properti saat dijual\n",
    "- `Sales Price` : harga yang dibayarkan untuk properti\n",
    "- `Sale Date` : tanggal properti terjual"
   ]
  },
  {
   "cell_type": "markdown",
   "id": "c729c4cb",
   "metadata": {},
   "source": [
    "## Data Preprocessing"
   ]
  },
  {
   "cell_type": "markdown",
   "id": "e951f88c",
   "metadata": {},
   "source": [
    "Menghapus kolom yang tidak diperlukan"
   ]
  },
  {
   "cell_type": "code",
   "execution_count": 3,
   "id": "ff44274c",
   "metadata": {},
   "outputs": [],
   "source": [
    "df_sales.drop([\"Unnamed: 0\", \"EASE-MENT\", \"APARTMENT NUMBER\", \"ADDRESS\", \"ZIP CODE\", \"BUILDING CLASS AT PRESENT\", \"BUILDING CLASS AT TIME OF SALE\"], axis=1, inplace=True)"
   ]
  },
  {
   "cell_type": "markdown",
   "id": "2e8d2879",
   "metadata": {},
   "source": [
    "Merubah kode pada kolom `BOROUGH` menjadi nama wilayah sesuai keterangan"
   ]
  },
  {
   "cell_type": "code",
   "execution_count": 4,
   "id": "da848d4e",
   "metadata": {},
   "outputs": [],
   "source": [
    "df_sales['BOROUGH'] = df_sales.BOROUGH.replace({1:\"Manhattan\", 2:\"Bronx\", 3:\"Brooklyn\", 4:\"Queens\", 5:\"Staten Island\"})"
   ]
  },
  {
   "cell_type": "markdown",
   "id": "01471af1",
   "metadata": {},
   "source": [
    "Menampilkan 5 data teratas"
   ]
  },
  {
   "cell_type": "code",
   "execution_count": 5,
   "id": "1181e37b",
   "metadata": {
    "scrolled": false
   },
   "outputs": [
    {
     "data": {
      "text/html": [
       "<div>\n",
       "<style scoped>\n",
       "    .dataframe tbody tr th:only-of-type {\n",
       "        vertical-align: middle;\n",
       "    }\n",
       "\n",
       "    .dataframe tbody tr th {\n",
       "        vertical-align: top;\n",
       "    }\n",
       "\n",
       "    .dataframe thead th {\n",
       "        text-align: right;\n",
       "    }\n",
       "</style>\n",
       "<table border=\"1\" class=\"dataframe\">\n",
       "  <thead>\n",
       "    <tr style=\"text-align: right;\">\n",
       "      <th></th>\n",
       "      <th>BOROUGH</th>\n",
       "      <th>NEIGHBORHOOD</th>\n",
       "      <th>BUILDING CLASS CATEGORY</th>\n",
       "      <th>TAX CLASS AT PRESENT</th>\n",
       "      <th>BLOCK</th>\n",
       "      <th>LOT</th>\n",
       "      <th>RESIDENTIAL UNITS</th>\n",
       "      <th>COMMERCIAL UNITS</th>\n",
       "      <th>TOTAL UNITS</th>\n",
       "      <th>LAND SQUARE FEET</th>\n",
       "      <th>GROSS SQUARE FEET</th>\n",
       "      <th>YEAR BUILT</th>\n",
       "      <th>TAX CLASS AT TIME OF SALE</th>\n",
       "      <th>SALE PRICE</th>\n",
       "      <th>SALE DATE</th>\n",
       "    </tr>\n",
       "  </thead>\n",
       "  <tbody>\n",
       "    <tr>\n",
       "      <th>0</th>\n",
       "      <td>Manhattan</td>\n",
       "      <td>ALPHABET CITY</td>\n",
       "      <td>07 RENTALS - WALKUP APARTMENTS</td>\n",
       "      <td>2A</td>\n",
       "      <td>392</td>\n",
       "      <td>6</td>\n",
       "      <td>5</td>\n",
       "      <td>0</td>\n",
       "      <td>5</td>\n",
       "      <td>1633</td>\n",
       "      <td>6440</td>\n",
       "      <td>1900</td>\n",
       "      <td>2</td>\n",
       "      <td>6625000</td>\n",
       "      <td>2017-07-19 00:00:00</td>\n",
       "    </tr>\n",
       "    <tr>\n",
       "      <th>1</th>\n",
       "      <td>Manhattan</td>\n",
       "      <td>ALPHABET CITY</td>\n",
       "      <td>07 RENTALS - WALKUP APARTMENTS</td>\n",
       "      <td>2</td>\n",
       "      <td>399</td>\n",
       "      <td>26</td>\n",
       "      <td>28</td>\n",
       "      <td>3</td>\n",
       "      <td>31</td>\n",
       "      <td>4616</td>\n",
       "      <td>18690</td>\n",
       "      <td>1900</td>\n",
       "      <td>2</td>\n",
       "      <td>-</td>\n",
       "      <td>2016-12-14 00:00:00</td>\n",
       "    </tr>\n",
       "    <tr>\n",
       "      <th>2</th>\n",
       "      <td>Manhattan</td>\n",
       "      <td>ALPHABET CITY</td>\n",
       "      <td>07 RENTALS - WALKUP APARTMENTS</td>\n",
       "      <td>2</td>\n",
       "      <td>399</td>\n",
       "      <td>39</td>\n",
       "      <td>16</td>\n",
       "      <td>1</td>\n",
       "      <td>17</td>\n",
       "      <td>2212</td>\n",
       "      <td>7803</td>\n",
       "      <td>1900</td>\n",
       "      <td>2</td>\n",
       "      <td>-</td>\n",
       "      <td>2016-12-09 00:00:00</td>\n",
       "    </tr>\n",
       "    <tr>\n",
       "      <th>3</th>\n",
       "      <td>Manhattan</td>\n",
       "      <td>ALPHABET CITY</td>\n",
       "      <td>07 RENTALS - WALKUP APARTMENTS</td>\n",
       "      <td>2B</td>\n",
       "      <td>402</td>\n",
       "      <td>21</td>\n",
       "      <td>10</td>\n",
       "      <td>0</td>\n",
       "      <td>10</td>\n",
       "      <td>2272</td>\n",
       "      <td>6794</td>\n",
       "      <td>1913</td>\n",
       "      <td>2</td>\n",
       "      <td>3936272</td>\n",
       "      <td>2016-09-23 00:00:00</td>\n",
       "    </tr>\n",
       "    <tr>\n",
       "      <th>4</th>\n",
       "      <td>Manhattan</td>\n",
       "      <td>ALPHABET CITY</td>\n",
       "      <td>07 RENTALS - WALKUP APARTMENTS</td>\n",
       "      <td>2A</td>\n",
       "      <td>404</td>\n",
       "      <td>55</td>\n",
       "      <td>6</td>\n",
       "      <td>0</td>\n",
       "      <td>6</td>\n",
       "      <td>2369</td>\n",
       "      <td>4615</td>\n",
       "      <td>1900</td>\n",
       "      <td>2</td>\n",
       "      <td>8000000</td>\n",
       "      <td>2016-11-17 00:00:00</td>\n",
       "    </tr>\n",
       "  </tbody>\n",
       "</table>\n",
       "</div>"
      ],
      "text/plain": [
       "     BOROUGH   NEIGHBORHOOD                      BUILDING CLASS CATEGORY  \\\n",
       "0  Manhattan  ALPHABET CITY  07 RENTALS - WALKUP APARTMENTS                \n",
       "1  Manhattan  ALPHABET CITY  07 RENTALS - WALKUP APARTMENTS                \n",
       "2  Manhattan  ALPHABET CITY  07 RENTALS - WALKUP APARTMENTS                \n",
       "3  Manhattan  ALPHABET CITY  07 RENTALS - WALKUP APARTMENTS                \n",
       "4  Manhattan  ALPHABET CITY  07 RENTALS - WALKUP APARTMENTS                \n",
       "\n",
       "  TAX CLASS AT PRESENT  BLOCK  LOT  RESIDENTIAL UNITS  COMMERCIAL UNITS  \\\n",
       "0                   2A    392    6                  5                 0   \n",
       "1                    2    399   26                 28                 3   \n",
       "2                    2    399   39                 16                 1   \n",
       "3                   2B    402   21                 10                 0   \n",
       "4                   2A    404   55                  6                 0   \n",
       "\n",
       "   TOTAL UNITS LAND SQUARE FEET GROSS SQUARE FEET  YEAR BUILT  \\\n",
       "0            5             1633              6440        1900   \n",
       "1           31             4616             18690        1900   \n",
       "2           17             2212              7803        1900   \n",
       "3           10             2272              6794        1913   \n",
       "4            6             2369              4615        1900   \n",
       "\n",
       "   TAX CLASS AT TIME OF SALE SALE PRICE            SALE DATE  \n",
       "0                          2    6625000  2017-07-19 00:00:00  \n",
       "1                          2        -    2016-12-14 00:00:00  \n",
       "2                          2        -    2016-12-09 00:00:00  \n",
       "3                          2    3936272  2016-09-23 00:00:00  \n",
       "4                          2    8000000  2016-11-17 00:00:00  "
      ]
     },
     "execution_count": 5,
     "metadata": {},
     "output_type": "execute_result"
    }
   ],
   "source": [
    "df_sales.head()"
   ]
  },
  {
   "cell_type": "markdown",
   "id": "b0e5a680",
   "metadata": {},
   "source": [
    "Menampilkan 5 data terbawah"
   ]
  },
  {
   "cell_type": "code",
   "execution_count": 6,
   "id": "f94a1f11",
   "metadata": {},
   "outputs": [
    {
     "data": {
      "text/html": [
       "<div>\n",
       "<style scoped>\n",
       "    .dataframe tbody tr th:only-of-type {\n",
       "        vertical-align: middle;\n",
       "    }\n",
       "\n",
       "    .dataframe tbody tr th {\n",
       "        vertical-align: top;\n",
       "    }\n",
       "\n",
       "    .dataframe thead th {\n",
       "        text-align: right;\n",
       "    }\n",
       "</style>\n",
       "<table border=\"1\" class=\"dataframe\">\n",
       "  <thead>\n",
       "    <tr style=\"text-align: right;\">\n",
       "      <th></th>\n",
       "      <th>BOROUGH</th>\n",
       "      <th>NEIGHBORHOOD</th>\n",
       "      <th>BUILDING CLASS CATEGORY</th>\n",
       "      <th>TAX CLASS AT PRESENT</th>\n",
       "      <th>BLOCK</th>\n",
       "      <th>LOT</th>\n",
       "      <th>RESIDENTIAL UNITS</th>\n",
       "      <th>COMMERCIAL UNITS</th>\n",
       "      <th>TOTAL UNITS</th>\n",
       "      <th>LAND SQUARE FEET</th>\n",
       "      <th>GROSS SQUARE FEET</th>\n",
       "      <th>YEAR BUILT</th>\n",
       "      <th>TAX CLASS AT TIME OF SALE</th>\n",
       "      <th>SALE PRICE</th>\n",
       "      <th>SALE DATE</th>\n",
       "    </tr>\n",
       "  </thead>\n",
       "  <tbody>\n",
       "    <tr>\n",
       "      <th>84543</th>\n",
       "      <td>Staten Island</td>\n",
       "      <td>WOODROW</td>\n",
       "      <td>02 TWO FAMILY DWELLINGS</td>\n",
       "      <td>1</td>\n",
       "      <td>7349</td>\n",
       "      <td>34</td>\n",
       "      <td>2</td>\n",
       "      <td>0</td>\n",
       "      <td>2</td>\n",
       "      <td>2400</td>\n",
       "      <td>2575</td>\n",
       "      <td>1998</td>\n",
       "      <td>1</td>\n",
       "      <td>450000</td>\n",
       "      <td>2016-11-28 00:00:00</td>\n",
       "    </tr>\n",
       "    <tr>\n",
       "      <th>84544</th>\n",
       "      <td>Staten Island</td>\n",
       "      <td>WOODROW</td>\n",
       "      <td>02 TWO FAMILY DWELLINGS</td>\n",
       "      <td>1</td>\n",
       "      <td>7349</td>\n",
       "      <td>78</td>\n",
       "      <td>2</td>\n",
       "      <td>0</td>\n",
       "      <td>2</td>\n",
       "      <td>2498</td>\n",
       "      <td>2377</td>\n",
       "      <td>1998</td>\n",
       "      <td>1</td>\n",
       "      <td>550000</td>\n",
       "      <td>2017-04-21 00:00:00</td>\n",
       "    </tr>\n",
       "    <tr>\n",
       "      <th>84545</th>\n",
       "      <td>Staten Island</td>\n",
       "      <td>WOODROW</td>\n",
       "      <td>02 TWO FAMILY DWELLINGS</td>\n",
       "      <td>1</td>\n",
       "      <td>7351</td>\n",
       "      <td>60</td>\n",
       "      <td>2</td>\n",
       "      <td>0</td>\n",
       "      <td>2</td>\n",
       "      <td>4000</td>\n",
       "      <td>1496</td>\n",
       "      <td>1925</td>\n",
       "      <td>1</td>\n",
       "      <td>460000</td>\n",
       "      <td>2017-07-05 00:00:00</td>\n",
       "    </tr>\n",
       "    <tr>\n",
       "      <th>84546</th>\n",
       "      <td>Staten Island</td>\n",
       "      <td>WOODROW</td>\n",
       "      <td>22 STORE BUILDINGS</td>\n",
       "      <td>4</td>\n",
       "      <td>7100</td>\n",
       "      <td>28</td>\n",
       "      <td>0</td>\n",
       "      <td>7</td>\n",
       "      <td>7</td>\n",
       "      <td>208033</td>\n",
       "      <td>64117</td>\n",
       "      <td>2001</td>\n",
       "      <td>4</td>\n",
       "      <td>11693337</td>\n",
       "      <td>2016-12-21 00:00:00</td>\n",
       "    </tr>\n",
       "    <tr>\n",
       "      <th>84547</th>\n",
       "      <td>Staten Island</td>\n",
       "      <td>WOODROW</td>\n",
       "      <td>35 INDOOR PUBLIC AND CULTURAL FACILITIES</td>\n",
       "      <td>4</td>\n",
       "      <td>7105</td>\n",
       "      <td>679</td>\n",
       "      <td>0</td>\n",
       "      <td>1</td>\n",
       "      <td>1</td>\n",
       "      <td>10796</td>\n",
       "      <td>2400</td>\n",
       "      <td>2006</td>\n",
       "      <td>4</td>\n",
       "      <td>69300</td>\n",
       "      <td>2016-10-27 00:00:00</td>\n",
       "    </tr>\n",
       "  </tbody>\n",
       "</table>\n",
       "</div>"
      ],
      "text/plain": [
       "             BOROUGH NEIGHBORHOOD  \\\n",
       "84543  Staten Island      WOODROW   \n",
       "84544  Staten Island      WOODROW   \n",
       "84545  Staten Island      WOODROW   \n",
       "84546  Staten Island      WOODROW   \n",
       "84547  Staten Island      WOODROW   \n",
       "\n",
       "                           BUILDING CLASS CATEGORY TAX CLASS AT PRESENT  \\\n",
       "84543  02 TWO FAMILY DWELLINGS                                        1   \n",
       "84544  02 TWO FAMILY DWELLINGS                                        1   \n",
       "84545  02 TWO FAMILY DWELLINGS                                        1   \n",
       "84546  22 STORE BUILDINGS                                             4   \n",
       "84547  35 INDOOR PUBLIC AND CULTURAL FACILITIES                       4   \n",
       "\n",
       "       BLOCK  LOT  RESIDENTIAL UNITS  COMMERCIAL UNITS  TOTAL UNITS  \\\n",
       "84543   7349   34                  2                 0            2   \n",
       "84544   7349   78                  2                 0            2   \n",
       "84545   7351   60                  2                 0            2   \n",
       "84546   7100   28                  0                 7            7   \n",
       "84547   7105  679                  0                 1            1   \n",
       "\n",
       "      LAND SQUARE FEET GROSS SQUARE FEET  YEAR BUILT  \\\n",
       "84543             2400              2575        1998   \n",
       "84544             2498              2377        1998   \n",
       "84545             4000              1496        1925   \n",
       "84546           208033             64117        2001   \n",
       "84547            10796              2400        2006   \n",
       "\n",
       "       TAX CLASS AT TIME OF SALE SALE PRICE            SALE DATE  \n",
       "84543                          1     450000  2016-11-28 00:00:00  \n",
       "84544                          1     550000  2017-04-21 00:00:00  \n",
       "84545                          1     460000  2017-07-05 00:00:00  \n",
       "84546                          4   11693337  2016-12-21 00:00:00  \n",
       "84547                          4      69300  2016-10-27 00:00:00  "
      ]
     },
     "execution_count": 6,
     "metadata": {},
     "output_type": "execute_result"
    }
   ],
   "source": [
    "df_sales.tail()"
   ]
  },
  {
   "cell_type": "markdown",
   "id": "05343ff4",
   "metadata": {},
   "source": [
    "Menampilkan jumlah baris dan kolom dari DataFrame"
   ]
  },
  {
   "cell_type": "code",
   "execution_count": 7,
   "id": "197e1c0c",
   "metadata": {},
   "outputs": [
    {
     "data": {
      "text/plain": [
       "(84548, 15)"
      ]
     },
     "execution_count": 7,
     "metadata": {},
     "output_type": "execute_result"
    }
   ],
   "source": [
    "df_sales.shape"
   ]
  },
  {
   "cell_type": "markdown",
   "id": "a43c837a",
   "metadata": {},
   "source": [
    "Menampilkan informasi detail tentang DataFrame seperti jumlah baris data, nama-nama kolom beserta jumlah data dan tipe datanya, dan sebagainya"
   ]
  },
  {
   "cell_type": "code",
   "execution_count": 8,
   "id": "9b83b436",
   "metadata": {
    "scrolled": true
   },
   "outputs": [
    {
     "name": "stdout",
     "output_type": "stream",
     "text": [
      "<class 'pandas.core.frame.DataFrame'>\n",
      "RangeIndex: 84548 entries, 0 to 84547\n",
      "Data columns (total 15 columns):\n",
      " #   Column                     Non-Null Count  Dtype \n",
      "---  ------                     --------------  ----- \n",
      " 0   BOROUGH                    84548 non-null  object\n",
      " 1   NEIGHBORHOOD               84548 non-null  object\n",
      " 2   BUILDING CLASS CATEGORY    84548 non-null  object\n",
      " 3   TAX CLASS AT PRESENT       84548 non-null  object\n",
      " 4   BLOCK                      84548 non-null  int64 \n",
      " 5   LOT                        84548 non-null  int64 \n",
      " 6   RESIDENTIAL UNITS          84548 non-null  int64 \n",
      " 7   COMMERCIAL UNITS           84548 non-null  int64 \n",
      " 8   TOTAL UNITS                84548 non-null  int64 \n",
      " 9   LAND SQUARE FEET           84548 non-null  object\n",
      " 10  GROSS SQUARE FEET          84548 non-null  object\n",
      " 11  YEAR BUILT                 84548 non-null  int64 \n",
      " 12  TAX CLASS AT TIME OF SALE  84548 non-null  int64 \n",
      " 13  SALE PRICE                 84548 non-null  object\n",
      " 14  SALE DATE                  84548 non-null  object\n",
      "dtypes: int64(7), object(8)\n",
      "memory usage: 9.7+ MB\n"
     ]
    }
   ],
   "source": [
    "df_sales.info()"
   ]
  },
  {
   "cell_type": "markdown",
   "id": "1ccf9992",
   "metadata": {},
   "source": [
    "Merubah tipe data `LAND SQUARE FEET`, `GROSS SQUARE FEET`, dan `SALE PRICE` dari object ke numeric. Jika ada data yang kosong maka akan diisi dengan angka 0"
   ]
  },
  {
   "cell_type": "code",
   "execution_count": 9,
   "id": "db0a2d8b",
   "metadata": {},
   "outputs": [],
   "source": [
    "convert_col = ['LAND SQUARE FEET', 'GROSS SQUARE FEET', 'SALE PRICE']\n",
    "\n",
    "for col in convert_col:\n",
    "    df_sales[col] = pd.to_numeric(df_sales[col], errors='coerce')"
   ]
  },
  {
   "cell_type": "markdown",
   "id": "d2b7ec0d",
   "metadata": {},
   "source": [
    "Merubah tipe data dari `TAX CLASS AT PRESENT` dan `TAX CLASS AT TIME OF SALE` menjadi kategorikal"
   ]
  },
  {
   "cell_type": "code",
   "execution_count": 10,
   "id": "18ca38ef",
   "metadata": {},
   "outputs": [],
   "source": [
    "df_sales['TAX CLASS AT TIME OF SALE'] = df_sales['TAX CLASS AT TIME OF SALE'].astype('category')\n",
    "df_sales['TAX CLASS AT PRESENT'] = df_sales['TAX CLASS AT PRESENT'].astype('category')"
   ]
  },
  {
   "cell_type": "markdown",
   "id": "d6745515",
   "metadata": {},
   "source": [
    "Merubah tipe data dari `SALE DATE` menjadi datetime"
   ]
  },
  {
   "cell_type": "code",
   "execution_count": 11,
   "id": "2c4dd2b9",
   "metadata": {},
   "outputs": [],
   "source": [
    "df_sales['SALE DATE'] = pd.to_datetime(df_sales['SALE DATE'])"
   ]
  },
  {
   "cell_type": "markdown",
   "id": "19e12b36",
   "metadata": {},
   "source": [
    "Menampilkan tipe data setelah diubah"
   ]
  },
  {
   "cell_type": "code",
   "execution_count": 12,
   "id": "25b90b4e",
   "metadata": {
    "scrolled": true
   },
   "outputs": [
    {
     "data": {
      "text/plain": [
       "BOROUGH                              object\n",
       "NEIGHBORHOOD                         object\n",
       "BUILDING CLASS CATEGORY              object\n",
       "TAX CLASS AT PRESENT               category\n",
       "BLOCK                                 int64\n",
       "LOT                                   int64\n",
       "RESIDENTIAL UNITS                     int64\n",
       "COMMERCIAL UNITS                      int64\n",
       "TOTAL UNITS                           int64\n",
       "LAND SQUARE FEET                    float64\n",
       "GROSS SQUARE FEET                   float64\n",
       "YEAR BUILT                            int64\n",
       "TAX CLASS AT TIME OF SALE          category\n",
       "SALE PRICE                          float64\n",
       "SALE DATE                    datetime64[ns]\n",
       "dtype: object"
      ]
     },
     "execution_count": 12,
     "metadata": {},
     "output_type": "execute_result"
    }
   ],
   "source": [
    "df_sales.dtypes"
   ]
  },
  {
   "cell_type": "markdown",
   "id": "0b31e18f",
   "metadata": {},
   "source": [
    "Menampilkan statistik deskriptif data dalam DataFrame"
   ]
  },
  {
   "cell_type": "code",
   "execution_count": 13,
   "id": "33e00d57",
   "metadata": {
    "scrolled": true
   },
   "outputs": [
    {
     "data": {
      "text/html": [
       "<div>\n",
       "<style scoped>\n",
       "    .dataframe tbody tr th:only-of-type {\n",
       "        vertical-align: middle;\n",
       "    }\n",
       "\n",
       "    .dataframe tbody tr th {\n",
       "        vertical-align: top;\n",
       "    }\n",
       "\n",
       "    .dataframe thead th {\n",
       "        text-align: right;\n",
       "    }\n",
       "</style>\n",
       "<table border=\"1\" class=\"dataframe\">\n",
       "  <thead>\n",
       "    <tr style=\"text-align: right;\">\n",
       "      <th></th>\n",
       "      <th>BLOCK</th>\n",
       "      <th>LOT</th>\n",
       "      <th>RESIDENTIAL UNITS</th>\n",
       "      <th>COMMERCIAL UNITS</th>\n",
       "      <th>TOTAL UNITS</th>\n",
       "      <th>LAND SQUARE FEET</th>\n",
       "      <th>GROSS SQUARE FEET</th>\n",
       "      <th>YEAR BUILT</th>\n",
       "      <th>SALE PRICE</th>\n",
       "    </tr>\n",
       "  </thead>\n",
       "  <tbody>\n",
       "    <tr>\n",
       "      <th>count</th>\n",
       "      <td>84548.000000</td>\n",
       "      <td>84548.000000</td>\n",
       "      <td>84548.000000</td>\n",
       "      <td>84548.000000</td>\n",
       "      <td>84548.000000</td>\n",
       "      <td>5.829600e+04</td>\n",
       "      <td>5.693600e+04</td>\n",
       "      <td>84548.000000</td>\n",
       "      <td>6.998700e+04</td>\n",
       "    </tr>\n",
       "    <tr>\n",
       "      <th>mean</th>\n",
       "      <td>4237.218976</td>\n",
       "      <td>376.224015</td>\n",
       "      <td>2.025264</td>\n",
       "      <td>0.193559</td>\n",
       "      <td>2.249184</td>\n",
       "      <td>3.941676e+03</td>\n",
       "      <td>4.045707e+03</td>\n",
       "      <td>1789.322976</td>\n",
       "      <td>1.276456e+06</td>\n",
       "    </tr>\n",
       "    <tr>\n",
       "      <th>std</th>\n",
       "      <td>3568.263407</td>\n",
       "      <td>658.136814</td>\n",
       "      <td>16.721037</td>\n",
       "      <td>8.713183</td>\n",
       "      <td>18.972584</td>\n",
       "      <td>4.198397e+04</td>\n",
       "      <td>3.503249e+04</td>\n",
       "      <td>537.344993</td>\n",
       "      <td>1.140526e+07</td>\n",
       "    </tr>\n",
       "    <tr>\n",
       "      <th>min</th>\n",
       "      <td>1.000000</td>\n",
       "      <td>1.000000</td>\n",
       "      <td>0.000000</td>\n",
       "      <td>0.000000</td>\n",
       "      <td>0.000000</td>\n",
       "      <td>0.000000e+00</td>\n",
       "      <td>0.000000e+00</td>\n",
       "      <td>0.000000</td>\n",
       "      <td>0.000000e+00</td>\n",
       "    </tr>\n",
       "    <tr>\n",
       "      <th>25%</th>\n",
       "      <td>1322.750000</td>\n",
       "      <td>22.000000</td>\n",
       "      <td>0.000000</td>\n",
       "      <td>0.000000</td>\n",
       "      <td>1.000000</td>\n",
       "      <td>1.650000e+03</td>\n",
       "      <td>1.046750e+03</td>\n",
       "      <td>1920.000000</td>\n",
       "      <td>2.250000e+05</td>\n",
       "    </tr>\n",
       "    <tr>\n",
       "      <th>50%</th>\n",
       "      <td>3311.000000</td>\n",
       "      <td>50.000000</td>\n",
       "      <td>1.000000</td>\n",
       "      <td>0.000000</td>\n",
       "      <td>1.000000</td>\n",
       "      <td>2.325000e+03</td>\n",
       "      <td>1.680000e+03</td>\n",
       "      <td>1940.000000</td>\n",
       "      <td>5.300000e+05</td>\n",
       "    </tr>\n",
       "    <tr>\n",
       "      <th>75%</th>\n",
       "      <td>6281.000000</td>\n",
       "      <td>1001.000000</td>\n",
       "      <td>2.000000</td>\n",
       "      <td>0.000000</td>\n",
       "      <td>2.000000</td>\n",
       "      <td>3.500000e+03</td>\n",
       "      <td>2.560000e+03</td>\n",
       "      <td>1965.000000</td>\n",
       "      <td>9.500000e+05</td>\n",
       "    </tr>\n",
       "    <tr>\n",
       "      <th>max</th>\n",
       "      <td>16322.000000</td>\n",
       "      <td>9106.000000</td>\n",
       "      <td>1844.000000</td>\n",
       "      <td>2261.000000</td>\n",
       "      <td>2261.000000</td>\n",
       "      <td>4.252327e+06</td>\n",
       "      <td>3.750565e+06</td>\n",
       "      <td>2017.000000</td>\n",
       "      <td>2.210000e+09</td>\n",
       "    </tr>\n",
       "  </tbody>\n",
       "</table>\n",
       "</div>"
      ],
      "text/plain": [
       "              BLOCK           LOT  RESIDENTIAL UNITS  COMMERCIAL UNITS  \\\n",
       "count  84548.000000  84548.000000       84548.000000      84548.000000   \n",
       "mean    4237.218976    376.224015           2.025264          0.193559   \n",
       "std     3568.263407    658.136814          16.721037          8.713183   \n",
       "min        1.000000      1.000000           0.000000          0.000000   \n",
       "25%     1322.750000     22.000000           0.000000          0.000000   \n",
       "50%     3311.000000     50.000000           1.000000          0.000000   \n",
       "75%     6281.000000   1001.000000           2.000000          0.000000   \n",
       "max    16322.000000   9106.000000        1844.000000       2261.000000   \n",
       "\n",
       "        TOTAL UNITS  LAND SQUARE FEET  GROSS SQUARE FEET    YEAR BUILT  \\\n",
       "count  84548.000000      5.829600e+04       5.693600e+04  84548.000000   \n",
       "mean       2.249184      3.941676e+03       4.045707e+03   1789.322976   \n",
       "std       18.972584      4.198397e+04       3.503249e+04    537.344993   \n",
       "min        0.000000      0.000000e+00       0.000000e+00      0.000000   \n",
       "25%        1.000000      1.650000e+03       1.046750e+03   1920.000000   \n",
       "50%        1.000000      2.325000e+03       1.680000e+03   1940.000000   \n",
       "75%        2.000000      3.500000e+03       2.560000e+03   1965.000000   \n",
       "max     2261.000000      4.252327e+06       3.750565e+06   2017.000000   \n",
       "\n",
       "         SALE PRICE  \n",
       "count  6.998700e+04  \n",
       "mean   1.276456e+06  \n",
       "std    1.140526e+07  \n",
       "min    0.000000e+00  \n",
       "25%    2.250000e+05  \n",
       "50%    5.300000e+05  \n",
       "75%    9.500000e+05  \n",
       "max    2.210000e+09  "
      ]
     },
     "execution_count": 13,
     "metadata": {},
     "output_type": "execute_result"
    }
   ],
   "source": [
    "df_sales.describe()"
   ]
  },
  {
   "cell_type": "markdown",
   "id": "38445b9e",
   "metadata": {},
   "source": [
    "Mengecek apakah ada missing value"
   ]
  },
  {
   "cell_type": "code",
   "execution_count": 14,
   "id": "970f876a",
   "metadata": {},
   "outputs": [
    {
     "data": {
      "text/plain": [
       "BOROUGH                          0\n",
       "NEIGHBORHOOD                     0\n",
       "BUILDING CLASS CATEGORY          0\n",
       "TAX CLASS AT PRESENT             0\n",
       "BLOCK                            0\n",
       "LOT                              0\n",
       "RESIDENTIAL UNITS                0\n",
       "COMMERCIAL UNITS                 0\n",
       "TOTAL UNITS                      0\n",
       "LAND SQUARE FEET             26252\n",
       "GROSS SQUARE FEET            27612\n",
       "YEAR BUILT                       0\n",
       "TAX CLASS AT TIME OF SALE        0\n",
       "SALE PRICE                   14561\n",
       "SALE DATE                        0\n",
       "dtype: int64"
      ]
     },
     "execution_count": 14,
     "metadata": {},
     "output_type": "execute_result"
    }
   ],
   "source": [
    "df_sales.isnull().sum()"
   ]
  },
  {
   "cell_type": "markdown",
   "id": "1617b146",
   "metadata": {},
   "source": [
    "**Handling missing value**\n",
    "\n",
    "Nilai yang kosong pada kolom `LAND SQUARE FEET`, `GROSS SQUARE FEET`, `YEAR BUILT`, dan `SALE PRICE` akan diubah dengan nilai median dari setiap kolom"
   ]
  },
  {
   "cell_type": "code",
   "execution_count": 15,
   "id": "a5472ea6",
   "metadata": {},
   "outputs": [],
   "source": [
    "df_sales['LAND SQUARE FEET'].fillna(df_sales['LAND SQUARE FEET'].median(), inplace=True)\n",
    "df_sales['GROSS SQUARE FEET'].fillna(df_sales['GROSS SQUARE FEET'].median(), inplace=True)\n",
    "df_sales['SALE PRICE'].fillna(df_sales['SALE PRICE'].median(), inplace=True)"
   ]
  },
  {
   "cell_type": "code",
   "execution_count": 16,
   "id": "0f43f496",
   "metadata": {},
   "outputs": [
    {
     "name": "stdout",
     "output_type": "stream",
     "text": [
      "Median dari kolom LAND SQUARE FEET : 2325.0\n",
      "Median dari kolom GROSS SQUARE FEET : 1680.0\n",
      "Median dari kolom SALE PRICE : 530000.0\n"
     ]
    }
   ],
   "source": [
    "median_lsf = df_sales['LAND SQUARE FEET'].median()\n",
    "median_gsf = df_sales['GROSS SQUARE FEET'].median()\n",
    "median_sp = df_sales['SALE PRICE'].median()\n",
    "\n",
    "print(\"Median dari kolom LAND SQUARE FEET :\", median_lsf)\n",
    "print(\"Median dari kolom GROSS SQUARE FEET :\", median_gsf)\n",
    "print(\"Median dari kolom SALE PRICE :\", median_sp)"
   ]
  },
  {
   "cell_type": "markdown",
   "id": "4d47a943",
   "metadata": {},
   "source": [
    "Mengecek kembali apakah masih ada missing value"
   ]
  },
  {
   "cell_type": "code",
   "execution_count": 17,
   "id": "3b364c36",
   "metadata": {},
   "outputs": [
    {
     "data": {
      "text/plain": [
       "BOROUGH                      0\n",
       "NEIGHBORHOOD                 0\n",
       "BUILDING CLASS CATEGORY      0\n",
       "TAX CLASS AT PRESENT         0\n",
       "BLOCK                        0\n",
       "LOT                          0\n",
       "RESIDENTIAL UNITS            0\n",
       "COMMERCIAL UNITS             0\n",
       "TOTAL UNITS                  0\n",
       "LAND SQUARE FEET             0\n",
       "GROSS SQUARE FEET            0\n",
       "YEAR BUILT                   0\n",
       "TAX CLASS AT TIME OF SALE    0\n",
       "SALE PRICE                   0\n",
       "SALE DATE                    0\n",
       "dtype: int64"
      ]
     },
     "execution_count": 17,
     "metadata": {},
     "output_type": "execute_result"
    }
   ],
   "source": [
    "df_sales.isnull().sum()"
   ]
  },
  {
   "cell_type": "markdown",
   "id": "18a26516",
   "metadata": {},
   "source": [
    "Setelah melakukan handling missing values, maka tidak ada lagi missing values"
   ]
  },
  {
   "cell_type": "markdown",
   "id": "b8c2e26d",
   "metadata": {},
   "source": [
    "Mengecek apakah ada duplikat dalam data dan jumlah value dalam DataFrame"
   ]
  },
  {
   "cell_type": "code",
   "execution_count": 18,
   "id": "df0e3c91",
   "metadata": {
    "scrolled": true
   },
   "outputs": [
    {
     "data": {
      "text/plain": [
       "False    83587\n",
       "True       961\n",
       "dtype: int64"
      ]
     },
     "execution_count": 18,
     "metadata": {},
     "output_type": "execute_result"
    }
   ],
   "source": [
    "df_sales.duplicated().value_counts()"
   ]
  },
  {
   "cell_type": "markdown",
   "id": "7c88f4f3",
   "metadata": {},
   "source": [
    "Menghapus data duplikat"
   ]
  },
  {
   "cell_type": "code",
   "execution_count": 19,
   "id": "4cc2ee95",
   "metadata": {},
   "outputs": [],
   "source": [
    "df_sales.drop_duplicates(inplace=True)"
   ]
  },
  {
   "cell_type": "markdown",
   "id": "7c6a0e0c",
   "metadata": {},
   "source": [
    "Mereset index"
   ]
  },
  {
   "cell_type": "code",
   "execution_count": 20,
   "id": "207cfc1b",
   "metadata": {},
   "outputs": [],
   "source": [
    "df_sales.reset_index(drop=True, inplace=True)"
   ]
  },
  {
   "cell_type": "markdown",
   "id": "4caeb623",
   "metadata": {},
   "source": [
    "Menampilkan 5 data teratas setelah dilakukan preprocessing"
   ]
  },
  {
   "cell_type": "code",
   "execution_count": 21,
   "id": "e003084a",
   "metadata": {},
   "outputs": [
    {
     "data": {
      "text/html": [
       "<div>\n",
       "<style scoped>\n",
       "    .dataframe tbody tr th:only-of-type {\n",
       "        vertical-align: middle;\n",
       "    }\n",
       "\n",
       "    .dataframe tbody tr th {\n",
       "        vertical-align: top;\n",
       "    }\n",
       "\n",
       "    .dataframe thead th {\n",
       "        text-align: right;\n",
       "    }\n",
       "</style>\n",
       "<table border=\"1\" class=\"dataframe\">\n",
       "  <thead>\n",
       "    <tr style=\"text-align: right;\">\n",
       "      <th></th>\n",
       "      <th>BOROUGH</th>\n",
       "      <th>NEIGHBORHOOD</th>\n",
       "      <th>BUILDING CLASS CATEGORY</th>\n",
       "      <th>TAX CLASS AT PRESENT</th>\n",
       "      <th>BLOCK</th>\n",
       "      <th>LOT</th>\n",
       "      <th>RESIDENTIAL UNITS</th>\n",
       "      <th>COMMERCIAL UNITS</th>\n",
       "      <th>TOTAL UNITS</th>\n",
       "      <th>LAND SQUARE FEET</th>\n",
       "      <th>GROSS SQUARE FEET</th>\n",
       "      <th>YEAR BUILT</th>\n",
       "      <th>TAX CLASS AT TIME OF SALE</th>\n",
       "      <th>SALE PRICE</th>\n",
       "      <th>SALE DATE</th>\n",
       "    </tr>\n",
       "  </thead>\n",
       "  <tbody>\n",
       "    <tr>\n",
       "      <th>0</th>\n",
       "      <td>Manhattan</td>\n",
       "      <td>ALPHABET CITY</td>\n",
       "      <td>07 RENTALS - WALKUP APARTMENTS</td>\n",
       "      <td>2A</td>\n",
       "      <td>392</td>\n",
       "      <td>6</td>\n",
       "      <td>5</td>\n",
       "      <td>0</td>\n",
       "      <td>5</td>\n",
       "      <td>1633.0</td>\n",
       "      <td>6440.0</td>\n",
       "      <td>1900</td>\n",
       "      <td>2</td>\n",
       "      <td>6625000.0</td>\n",
       "      <td>2017-07-19</td>\n",
       "    </tr>\n",
       "    <tr>\n",
       "      <th>1</th>\n",
       "      <td>Manhattan</td>\n",
       "      <td>ALPHABET CITY</td>\n",
       "      <td>07 RENTALS - WALKUP APARTMENTS</td>\n",
       "      <td>2</td>\n",
       "      <td>399</td>\n",
       "      <td>26</td>\n",
       "      <td>28</td>\n",
       "      <td>3</td>\n",
       "      <td>31</td>\n",
       "      <td>4616.0</td>\n",
       "      <td>18690.0</td>\n",
       "      <td>1900</td>\n",
       "      <td>2</td>\n",
       "      <td>530000.0</td>\n",
       "      <td>2016-12-14</td>\n",
       "    </tr>\n",
       "    <tr>\n",
       "      <th>2</th>\n",
       "      <td>Manhattan</td>\n",
       "      <td>ALPHABET CITY</td>\n",
       "      <td>07 RENTALS - WALKUP APARTMENTS</td>\n",
       "      <td>2</td>\n",
       "      <td>399</td>\n",
       "      <td>39</td>\n",
       "      <td>16</td>\n",
       "      <td>1</td>\n",
       "      <td>17</td>\n",
       "      <td>2212.0</td>\n",
       "      <td>7803.0</td>\n",
       "      <td>1900</td>\n",
       "      <td>2</td>\n",
       "      <td>530000.0</td>\n",
       "      <td>2016-12-09</td>\n",
       "    </tr>\n",
       "    <tr>\n",
       "      <th>3</th>\n",
       "      <td>Manhattan</td>\n",
       "      <td>ALPHABET CITY</td>\n",
       "      <td>07 RENTALS - WALKUP APARTMENTS</td>\n",
       "      <td>2B</td>\n",
       "      <td>402</td>\n",
       "      <td>21</td>\n",
       "      <td>10</td>\n",
       "      <td>0</td>\n",
       "      <td>10</td>\n",
       "      <td>2272.0</td>\n",
       "      <td>6794.0</td>\n",
       "      <td>1913</td>\n",
       "      <td>2</td>\n",
       "      <td>3936272.0</td>\n",
       "      <td>2016-09-23</td>\n",
       "    </tr>\n",
       "    <tr>\n",
       "      <th>4</th>\n",
       "      <td>Manhattan</td>\n",
       "      <td>ALPHABET CITY</td>\n",
       "      <td>07 RENTALS - WALKUP APARTMENTS</td>\n",
       "      <td>2A</td>\n",
       "      <td>404</td>\n",
       "      <td>55</td>\n",
       "      <td>6</td>\n",
       "      <td>0</td>\n",
       "      <td>6</td>\n",
       "      <td>2369.0</td>\n",
       "      <td>4615.0</td>\n",
       "      <td>1900</td>\n",
       "      <td>2</td>\n",
       "      <td>8000000.0</td>\n",
       "      <td>2016-11-17</td>\n",
       "    </tr>\n",
       "  </tbody>\n",
       "</table>\n",
       "</div>"
      ],
      "text/plain": [
       "     BOROUGH   NEIGHBORHOOD                      BUILDING CLASS CATEGORY  \\\n",
       "0  Manhattan  ALPHABET CITY  07 RENTALS - WALKUP APARTMENTS                \n",
       "1  Manhattan  ALPHABET CITY  07 RENTALS - WALKUP APARTMENTS                \n",
       "2  Manhattan  ALPHABET CITY  07 RENTALS - WALKUP APARTMENTS                \n",
       "3  Manhattan  ALPHABET CITY  07 RENTALS - WALKUP APARTMENTS                \n",
       "4  Manhattan  ALPHABET CITY  07 RENTALS - WALKUP APARTMENTS                \n",
       "\n",
       "  TAX CLASS AT PRESENT  BLOCK  LOT  RESIDENTIAL UNITS  COMMERCIAL UNITS  \\\n",
       "0                   2A    392    6                  5                 0   \n",
       "1                    2    399   26                 28                 3   \n",
       "2                    2    399   39                 16                 1   \n",
       "3                   2B    402   21                 10                 0   \n",
       "4                   2A    404   55                  6                 0   \n",
       "\n",
       "   TOTAL UNITS  LAND SQUARE FEET  GROSS SQUARE FEET  YEAR BUILT  \\\n",
       "0            5            1633.0             6440.0        1900   \n",
       "1           31            4616.0            18690.0        1900   \n",
       "2           17            2212.0             7803.0        1900   \n",
       "3           10            2272.0             6794.0        1913   \n",
       "4            6            2369.0             4615.0        1900   \n",
       "\n",
       "  TAX CLASS AT TIME OF SALE  SALE PRICE  SALE DATE  \n",
       "0                         2   6625000.0 2017-07-19  \n",
       "1                         2    530000.0 2016-12-14  \n",
       "2                         2    530000.0 2016-12-09  \n",
       "3                         2   3936272.0 2016-09-23  \n",
       "4                         2   8000000.0 2016-11-17  "
      ]
     },
     "execution_count": 21,
     "metadata": {},
     "output_type": "execute_result"
    }
   ],
   "source": [
    "df_sales.head(5)"
   ]
  },
  {
   "cell_type": "markdown",
   "id": "2dbcf781",
   "metadata": {},
   "source": [
    "- is there a difference in unit sold between property built in 1900-2000 and 2001 so on?\n",
    "- is there a difference in unit sold based on building category?\n",
    "- what can you discover about New York City real estate by looking at a year's worth of raw transaction records? can you spot trends in the market?"
   ]
  },
  {
   "cell_type": "markdown",
   "id": "ad403383",
   "metadata": {},
   "source": [
    "## Measure of Central Tendency"
   ]
  },
  {
   "cell_type": "markdown",
   "id": "d1aaa607",
   "metadata": {},
   "source": [
    "### Mean"
   ]
  },
  {
   "cell_type": "markdown",
   "id": "eda63f5c",
   "metadata": {},
   "source": [
    "#### Menghitung nilai mean atau rata-rata `SALE PRICE` pada setiap data di kolom `BOROUGH`"
   ]
  },
  {
   "cell_type": "code",
   "execution_count": 22,
   "id": "b3fd1982",
   "metadata": {},
   "outputs": [
    {
     "data": {
      "text/html": [
       "<div>\n",
       "<style scoped>\n",
       "    .dataframe tbody tr th:only-of-type {\n",
       "        vertical-align: middle;\n",
       "    }\n",
       "\n",
       "    .dataframe tbody tr th {\n",
       "        vertical-align: top;\n",
       "    }\n",
       "\n",
       "    .dataframe thead th {\n",
       "        text-align: right;\n",
       "    }\n",
       "</style>\n",
       "<table border=\"1\" class=\"dataframe\">\n",
       "  <thead>\n",
       "    <tr style=\"text-align: right;\">\n",
       "      <th></th>\n",
       "      <th>SALE PRICE</th>\n",
       "    </tr>\n",
       "    <tr>\n",
       "      <th>BOROUGH</th>\n",
       "      <th></th>\n",
       "    </tr>\n",
       "  </thead>\n",
       "  <tbody>\n",
       "    <tr>\n",
       "      <th>Bronx</th>\n",
       "      <td>5.955543e+05</td>\n",
       "    </tr>\n",
       "    <tr>\n",
       "      <th>Brooklyn</th>\n",
       "      <td>8.423449e+05</td>\n",
       "    </tr>\n",
       "    <tr>\n",
       "      <th>Manhattan</th>\n",
       "      <td>2.773636e+06</td>\n",
       "    </tr>\n",
       "    <tr>\n",
       "      <th>Queens</th>\n",
       "      <td>6.753599e+05</td>\n",
       "    </tr>\n",
       "    <tr>\n",
       "      <th>Staten Island</th>\n",
       "      <td>5.398224e+05</td>\n",
       "    </tr>\n",
       "  </tbody>\n",
       "</table>\n",
       "</div>"
      ],
      "text/plain": [
       "                 SALE PRICE\n",
       "BOROUGH                    \n",
       "Bronx          5.955543e+05\n",
       "Brooklyn       8.423449e+05\n",
       "Manhattan      2.773636e+06\n",
       "Queens         6.753599e+05\n",
       "Staten Island  5.398224e+05"
      ]
     },
     "execution_count": 22,
     "metadata": {},
     "output_type": "execute_result"
    }
   ],
   "source": [
    "mean_price = df_sales.groupby('BOROUGH').agg({'SALE PRICE':np.mean})\n",
    "mean_price"
   ]
  },
  {
   "cell_type": "markdown",
   "id": "536f6dc6",
   "metadata": {},
   "source": [
    "Memvisualisasikan nilai mean dengan bar horizontal"
   ]
  },
  {
   "cell_type": "code",
   "execution_count": 23,
   "id": "4d9b0e71",
   "metadata": {},
   "outputs": [
    {
     "data": {
      "image/png": "[encoded data removed]",
      "text/plain": [
       "<Figure size 1000x600 with 1 Axes>"
      ]
     },
     "metadata": {},
     "output_type": "display_data"
    }
   ],
   "source": [
    "mean_price.plot(kind='barh', \n",
    "                color='grey',\n",
    "                figsize=(10,6), \n",
    "                legend = False\n",
    "               )\n",
    "\n",
    "plt.title(\"Mean of Sale Price by Borough\")\n",
    "plt.xlabel(\"SALE PRICE\")\n",
    "plt.ylabel(\"BOROUGH\")\n",
    "\n",
    "plt.show()"
   ]
  },
  {
   "cell_type": "markdown",
   "id": "41c1c44f",
   "metadata": {},
   "source": [
    "**Kesimpulan :**\n",
    "\n",
    "Berdasarkan tabel diatas, dapat diketahui bahwa rata-rata SALE PRICE tertinggi terdapat pada wilayah Brooklyn dengan nilai \t8.590217e+05. Sedangkan rata-rata SALE PRICE terendah terdapat pada wilayah Manhattan dengan nilai 2.831892e+06. "
   ]
  },
  {
   "cell_type": "markdown",
   "id": "d9f9e0ba",
   "metadata": {},
   "source": [
    "#### Menghitung nilai mean atau rata-rata pada setiap data numerik berdasarkan kolom `BOROUGH`"
   ]
  },
  {
   "cell_type": "code",
   "execution_count": 24,
   "id": "0e336e61",
   "metadata": {
    "scrolled": true
   },
   "outputs": [
    {
     "data": {
      "text/html": [
       "<div>\n",
       "<style scoped>\n",
       "    .dataframe tbody tr th:only-of-type {\n",
       "        vertical-align: middle;\n",
       "    }\n",
       "\n",
       "    .dataframe tbody tr th {\n",
       "        vertical-align: top;\n",
       "    }\n",
       "\n",
       "    .dataframe thead th {\n",
       "        text-align: right;\n",
       "    }\n",
       "</style>\n",
       "<table border=\"1\" class=\"dataframe\">\n",
       "  <thead>\n",
       "    <tr style=\"text-align: right;\">\n",
       "      <th></th>\n",
       "      <th>BLOCK</th>\n",
       "      <th>LOT</th>\n",
       "      <th>RESIDENTIAL UNITS</th>\n",
       "      <th>COMMERCIAL UNITS</th>\n",
       "      <th>TOTAL UNITS</th>\n",
       "      <th>LAND SQUARE FEET</th>\n",
       "      <th>GROSS SQUARE FEET</th>\n",
       "      <th>YEAR BUILT</th>\n",
       "      <th>SALE PRICE</th>\n",
       "    </tr>\n",
       "    <tr>\n",
       "      <th>BOROUGH</th>\n",
       "      <th></th>\n",
       "      <th></th>\n",
       "      <th></th>\n",
       "      <th></th>\n",
       "      <th></th>\n",
       "      <th></th>\n",
       "      <th></th>\n",
       "      <th></th>\n",
       "      <th></th>\n",
       "    </tr>\n",
       "  </thead>\n",
       "  <tbody>\n",
       "    <tr>\n",
       "      <th>Bronx</th>\n",
       "      <td>4204.104683</td>\n",
       "      <td>298.958471</td>\n",
       "      <td>3.348418</td>\n",
       "      <td>0.159387</td>\n",
       "      <td>3.514106</td>\n",
       "      <td>3909.008163</td>\n",
       "      <td>4494.309609</td>\n",
       "      <td>1750.280825</td>\n",
       "      <td>5.955543e+05</td>\n",
       "    </tr>\n",
       "    <tr>\n",
       "      <th>Brooklyn</th>\n",
       "      <td>4317.978492</td>\n",
       "      <td>339.924092</td>\n",
       "      <td>2.009494</td>\n",
       "      <td>0.145474</td>\n",
       "      <td>2.192187</td>\n",
       "      <td>2012.465406</td>\n",
       "      <td>2478.438941</td>\n",
       "      <td>1767.025625</td>\n",
       "      <td>8.423449e+05</td>\n",
       "    </tr>\n",
       "    <tr>\n",
       "      <th>Manhattan</th>\n",
       "      <td>1107.518968</td>\n",
       "      <td>750.958403</td>\n",
       "      <td>2.199501</td>\n",
       "      <td>0.281198</td>\n",
       "      <td>2.520521</td>\n",
       "      <td>2624.832169</td>\n",
       "      <td>4643.633777</td>\n",
       "      <td>1706.044481</td>\n",
       "      <td>2.773636e+06</td>\n",
       "    </tr>\n",
       "    <tr>\n",
       "      <th>Queens</th>\n",
       "      <td>6628.573959</td>\n",
       "      <td>230.947798</td>\n",
       "      <td>1.685654</td>\n",
       "      <td>0.190791</td>\n",
       "      <td>1.907721</td>\n",
       "      <td>3616.733550</td>\n",
       "      <td>2703.465476</td>\n",
       "      <td>1852.211226</td>\n",
       "      <td>6.753599e+05</td>\n",
       "    </tr>\n",
       "    <tr>\n",
       "      <th>Staten Island</th>\n",
       "      <td>3262.026281</td>\n",
       "      <td>198.796504</td>\n",
       "      <td>1.230259</td>\n",
       "      <td>0.080410</td>\n",
       "      <td>1.313321</td>\n",
       "      <td>7675.834117</td>\n",
       "      <td>2196.219168</td>\n",
       "      <td>1870.193611</td>\n",
       "      <td>5.398224e+05</td>\n",
       "    </tr>\n",
       "  </tbody>\n",
       "</table>\n",
       "</div>"
      ],
      "text/plain": [
       "                     BLOCK         LOT  RESIDENTIAL UNITS  COMMERCIAL UNITS  \\\n",
       "BOROUGH                                                                       \n",
       "Bronx          4204.104683  298.958471           3.348418          0.159387   \n",
       "Brooklyn       4317.978492  339.924092           2.009494          0.145474   \n",
       "Manhattan      1107.518968  750.958403           2.199501          0.281198   \n",
       "Queens         6628.573959  230.947798           1.685654          0.190791   \n",
       "Staten Island  3262.026281  198.796504           1.230259          0.080410   \n",
       "\n",
       "               TOTAL UNITS  LAND SQUARE FEET  GROSS SQUARE FEET   YEAR BUILT  \\\n",
       "BOROUGH                                                                        \n",
       "Bronx             3.514106       3909.008163        4494.309609  1750.280825   \n",
       "Brooklyn          2.192187       2012.465406        2478.438941  1767.025625   \n",
       "Manhattan         2.520521       2624.832169        4643.633777  1706.044481   \n",
       "Queens            1.907721       3616.733550        2703.465476  1852.211226   \n",
       "Staten Island     1.313321       7675.834117        2196.219168  1870.193611   \n",
       "\n",
       "                 SALE PRICE  \n",
       "BOROUGH                      \n",
       "Bronx          5.955543e+05  \n",
       "Brooklyn       8.423449e+05  \n",
       "Manhattan      2.773636e+06  \n",
       "Queens         6.753599e+05  \n",
       "Staten Island  5.398224e+05  "
      ]
     },
     "execution_count": 24,
     "metadata": {},
     "output_type": "execute_result"
    }
   ],
   "source": [
    "mean_num = df_sales.groupby('BOROUGH').mean()\n",
    "mean_num"
   ]
  },
  {
   "cell_type": "markdown",
   "id": "c10aa2c1",
   "metadata": {},
   "source": [
    "**Kesimpulan :**\n",
    "\n",
    "Setiap wilayah memiliki rata-rata tertinggi pada setiap kolom tertentu\n",
    "- wilayah Bronx memiliki rata-rata tertinggi pada kolom TOTAL UNITS dan RESIDENTIAL UNITS\n",
    "- wilayah Brooklyn memiliki rata-rata tertinggi pada kolom SALE PRICE\n",
    "- wilayah Manhattan memiliki rata-rata tertinggi pada kolom LOT dan GROSS SQUARE FEET\n",
    "- wilayah Queens memiliki rata-rata tertinggi pada kolom BLOCK \n",
    "- wilayah Staten Island memiliki rata-rata tertinggi pada kolom COMMERCIAL UNITS, LAND SQUARE FEET, dan YEAR BUILT"
   ]
  },
  {
   "cell_type": "markdown",
   "id": "28b6195b",
   "metadata": {},
   "source": [
    "### Median"
   ]
  },
  {
   "cell_type": "markdown",
   "id": "7610e613",
   "metadata": {},
   "source": [
    "#### Menghitung nilai tengah atau median `SALE PRICE` pada setiap data di kolom `BOROUGH`"
   ]
  },
  {
   "cell_type": "code",
   "execution_count": 25,
   "id": "ffc51c08",
   "metadata": {},
   "outputs": [
    {
     "data": {
      "text/html": [
       "<div>\n",
       "<style scoped>\n",
       "    .dataframe tbody tr th:only-of-type {\n",
       "        vertical-align: middle;\n",
       "    }\n",
       "\n",
       "    .dataframe tbody tr th {\n",
       "        vertical-align: top;\n",
       "    }\n",
       "\n",
       "    .dataframe thead th {\n",
       "        text-align: right;\n",
       "    }\n",
       "</style>\n",
       "<table border=\"1\" class=\"dataframe\">\n",
       "  <thead>\n",
       "    <tr style=\"text-align: right;\">\n",
       "      <th></th>\n",
       "      <th>SALE PRICE</th>\n",
       "    </tr>\n",
       "    <tr>\n",
       "      <th>BOROUGH</th>\n",
       "      <th></th>\n",
       "    </tr>\n",
       "  </thead>\n",
       "  <tbody>\n",
       "    <tr>\n",
       "      <th>Bronx</th>\n",
       "      <td>275000.0</td>\n",
       "    </tr>\n",
       "    <tr>\n",
       "      <th>Brooklyn</th>\n",
       "      <td>429000.0</td>\n",
       "    </tr>\n",
       "    <tr>\n",
       "      <th>Manhattan</th>\n",
       "      <td>850000.0</td>\n",
       "    </tr>\n",
       "    <tr>\n",
       "      <th>Queens</th>\n",
       "      <td>530000.0</td>\n",
       "    </tr>\n",
       "    <tr>\n",
       "      <th>Staten Island</th>\n",
       "      <td>530000.0</td>\n",
       "    </tr>\n",
       "  </tbody>\n",
       "</table>\n",
       "</div>"
      ],
      "text/plain": [
       "               SALE PRICE\n",
       "BOROUGH                  \n",
       "Bronx            275000.0\n",
       "Brooklyn         429000.0\n",
       "Manhattan        850000.0\n",
       "Queens           530000.0\n",
       "Staten Island    530000.0"
      ]
     },
     "execution_count": 25,
     "metadata": {},
     "output_type": "execute_result"
    }
   ],
   "source": [
    "median_price = df_sales.groupby('BOROUGH').agg({'SALE PRICE':np.median})\n",
    "median_price"
   ]
  },
  {
   "cell_type": "code",
   "execution_count": 26,
   "id": "18e7f208",
   "metadata": {},
   "outputs": [
    {
     "data": {
      "image/png": "[encoded data removed]",
      "text/plain": [
       "<Figure size 1000x600 with 1 Axes>"
      ]
     },
     "metadata": {},
     "output_type": "display_data"
    }
   ],
   "source": [
    "median_price.plot(kind='bar', \n",
    "                color='grey',\n",
    "                figsize=(10,6), \n",
    "                legend = False\n",
    "               )\n",
    "\n",
    "plt.title(\"Median of Sale Price by Borough\")\n",
    "plt.xlabel(\"BOROUGH\")\n",
    "plt.ylabel(\"SALE PRICE\")\n",
    "\n",
    "plt.show()"
   ]
  },
  {
   "cell_type": "markdown",
   "id": "b15f04e7",
   "metadata": {},
   "source": [
    "**Kesimpulan :**\n",
    "\n",
    "Berdasarkan tabel diatas, dapat diketahui bahwa median SALE PRICE tertinggi terdapat pada wilayah Manhattan\tdengan nilai 875000. Sedangkan median SALE PRICE terendah terdapat pada wilayah Bronx dengan nilai 280000."
   ]
  },
  {
   "cell_type": "markdown",
   "id": "91aa04b9",
   "metadata": {},
   "source": [
    "#### Menghitung nilai median pada setiap data numerik berdasarkan kolom `BOROUGH`"
   ]
  },
  {
   "cell_type": "code",
   "execution_count": 27,
   "id": "37d82710",
   "metadata": {},
   "outputs": [
    {
     "data": {
      "text/html": [
       "<div>\n",
       "<style scoped>\n",
       "    .dataframe tbody tr th:only-of-type {\n",
       "        vertical-align: middle;\n",
       "    }\n",
       "\n",
       "    .dataframe tbody tr th {\n",
       "        vertical-align: top;\n",
       "    }\n",
       "\n",
       "    .dataframe thead th {\n",
       "        text-align: right;\n",
       "    }\n",
       "</style>\n",
       "<table border=\"1\" class=\"dataframe\">\n",
       "  <thead>\n",
       "    <tr style=\"text-align: right;\">\n",
       "      <th></th>\n",
       "      <th>BLOCK</th>\n",
       "      <th>LOT</th>\n",
       "      <th>RESIDENTIAL UNITS</th>\n",
       "      <th>COMMERCIAL UNITS</th>\n",
       "      <th>TOTAL UNITS</th>\n",
       "      <th>LAND SQUARE FEET</th>\n",
       "      <th>GROSS SQUARE FEET</th>\n",
       "      <th>YEAR BUILT</th>\n",
       "      <th>SALE PRICE</th>\n",
       "    </tr>\n",
       "    <tr>\n",
       "      <th>BOROUGH</th>\n",
       "      <th></th>\n",
       "      <th></th>\n",
       "      <th></th>\n",
       "      <th></th>\n",
       "      <th></th>\n",
       "      <th></th>\n",
       "      <th></th>\n",
       "      <th></th>\n",
       "      <th></th>\n",
       "    </tr>\n",
       "  </thead>\n",
       "  <tbody>\n",
       "    <tr>\n",
       "      <th>Bronx</th>\n",
       "      <td>4178.0</td>\n",
       "      <td>47.0</td>\n",
       "      <td>1.0</td>\n",
       "      <td>0.0</td>\n",
       "      <td>1.0</td>\n",
       "      <td>2375.0</td>\n",
       "      <td>1764.0</td>\n",
       "      <td>1932.0</td>\n",
       "      <td>275000.0</td>\n",
       "    </tr>\n",
       "    <tr>\n",
       "      <th>Brooklyn</th>\n",
       "      <td>4549.0</td>\n",
       "      <td>50.0</td>\n",
       "      <td>1.0</td>\n",
       "      <td>0.0</td>\n",
       "      <td>1.0</td>\n",
       "      <td>1800.0</td>\n",
       "      <td>1520.0</td>\n",
       "      <td>1930.0</td>\n",
       "      <td>429000.0</td>\n",
       "    </tr>\n",
       "    <tr>\n",
       "      <th>Manhattan</th>\n",
       "      <td>1170.0</td>\n",
       "      <td>1004.0</td>\n",
       "      <td>0.0</td>\n",
       "      <td>0.0</td>\n",
       "      <td>1.0</td>\n",
       "      <td>2325.0</td>\n",
       "      <td>1680.0</td>\n",
       "      <td>1937.0</td>\n",
       "      <td>850000.0</td>\n",
       "    </tr>\n",
       "    <tr>\n",
       "      <th>Queens</th>\n",
       "      <td>5900.0</td>\n",
       "      <td>40.0</td>\n",
       "      <td>1.0</td>\n",
       "      <td>0.0</td>\n",
       "      <td>1.0</td>\n",
       "      <td>2325.0</td>\n",
       "      <td>1680.0</td>\n",
       "      <td>1945.0</td>\n",
       "      <td>530000.0</td>\n",
       "    </tr>\n",
       "    <tr>\n",
       "      <th>Staten Island</th>\n",
       "      <td>3024.0</td>\n",
       "      <td>56.0</td>\n",
       "      <td>1.0</td>\n",
       "      <td>0.0</td>\n",
       "      <td>1.0</td>\n",
       "      <td>3206.0</td>\n",
       "      <td>1680.0</td>\n",
       "      <td>1973.0</td>\n",
       "      <td>530000.0</td>\n",
       "    </tr>\n",
       "  </tbody>\n",
       "</table>\n",
       "</div>"
      ],
      "text/plain": [
       "                BLOCK     LOT  RESIDENTIAL UNITS  COMMERCIAL UNITS  \\\n",
       "BOROUGH                                                              \n",
       "Bronx          4178.0    47.0                1.0               0.0   \n",
       "Brooklyn       4549.0    50.0                1.0               0.0   \n",
       "Manhattan      1170.0  1004.0                0.0               0.0   \n",
       "Queens         5900.0    40.0                1.0               0.0   \n",
       "Staten Island  3024.0    56.0                1.0               0.0   \n",
       "\n",
       "               TOTAL UNITS  LAND SQUARE FEET  GROSS SQUARE FEET  YEAR BUILT  \\\n",
       "BOROUGH                                                                       \n",
       "Bronx                  1.0            2375.0             1764.0      1932.0   \n",
       "Brooklyn               1.0            1800.0             1520.0      1930.0   \n",
       "Manhattan              1.0            2325.0             1680.0      1937.0   \n",
       "Queens                 1.0            2325.0             1680.0      1945.0   \n",
       "Staten Island          1.0            3206.0             1680.0      1973.0   \n",
       "\n",
       "               SALE PRICE  \n",
       "BOROUGH                    \n",
       "Bronx            275000.0  \n",
       "Brooklyn         429000.0  \n",
       "Manhattan        850000.0  \n",
       "Queens           530000.0  \n",
       "Staten Island    530000.0  "
      ]
     },
     "execution_count": 27,
     "metadata": {},
     "output_type": "execute_result"
    }
   ],
   "source": [
    "median_num = df_sales.groupby('BOROUGH').median()\n",
    "median_num"
   ]
  },
  {
   "cell_type": "markdown",
   "id": "986c6ee6",
   "metadata": {},
   "source": [
    "**Kesimpulan :**\n",
    "\n",
    "Berdasarkan tabel diatas, dapat diketahui bahwa \n",
    "- seluruh wilayah memiliki nilai median yang sama pada kolom RESIDENTIAL UNITS dan TOTAL UNITS dengan nilai 1\n",
    "- nilai median pada kolom COMMERCIAL UNITS di seluruh wilayah yaitu 0\n",
    "- wilayah Manhattan memiliki nilai median yang tertinggi dan berbeda jauh dengan wilayah lain pada kolom LOT dengan nilai 1007"
   ]
  },
  {
   "cell_type": "markdown",
   "id": "7611e349",
   "metadata": {},
   "source": [
    "### Modus"
   ]
  },
  {
   "cell_type": "markdown",
   "id": "d9645391",
   "metadata": {},
   "source": [
    "Membuat variabel data_modus yang berisi data dari kolom `BOROUGH`, `NEIGHBORHOOD`, dan `BUILDING CLASS CATEGORY`"
   ]
  },
  {
   "cell_type": "code",
   "execution_count": 28,
   "id": "2ea1ff15",
   "metadata": {},
   "outputs": [
    {
     "data": {
      "text/html": [
       "<div>\n",
       "<style scoped>\n",
       "    .dataframe tbody tr th:only-of-type {\n",
       "        vertical-align: middle;\n",
       "    }\n",
       "\n",
       "    .dataframe tbody tr th {\n",
       "        vertical-align: top;\n",
       "    }\n",
       "\n",
       "    .dataframe thead th {\n",
       "        text-align: right;\n",
       "    }\n",
       "</style>\n",
       "<table border=\"1\" class=\"dataframe\">\n",
       "  <thead>\n",
       "    <tr style=\"text-align: right;\">\n",
       "      <th></th>\n",
       "      <th>BOROUGH</th>\n",
       "      <th>NEIGHBORHOOD</th>\n",
       "      <th>BUILDING CLASS CATEGORY</th>\n",
       "    </tr>\n",
       "  </thead>\n",
       "  <tbody>\n",
       "    <tr>\n",
       "      <th>0</th>\n",
       "      <td>Manhattan</td>\n",
       "      <td>ALPHABET CITY</td>\n",
       "      <td>07 RENTALS - WALKUP APARTMENTS</td>\n",
       "    </tr>\n",
       "    <tr>\n",
       "      <th>1</th>\n",
       "      <td>Manhattan</td>\n",
       "      <td>ALPHABET CITY</td>\n",
       "      <td>07 RENTALS - WALKUP APARTMENTS</td>\n",
       "    </tr>\n",
       "    <tr>\n",
       "      <th>2</th>\n",
       "      <td>Manhattan</td>\n",
       "      <td>ALPHABET CITY</td>\n",
       "      <td>07 RENTALS - WALKUP APARTMENTS</td>\n",
       "    </tr>\n",
       "    <tr>\n",
       "      <th>3</th>\n",
       "      <td>Manhattan</td>\n",
       "      <td>ALPHABET CITY</td>\n",
       "      <td>07 RENTALS - WALKUP APARTMENTS</td>\n",
       "    </tr>\n",
       "    <tr>\n",
       "      <th>4</th>\n",
       "      <td>Manhattan</td>\n",
       "      <td>ALPHABET CITY</td>\n",
       "      <td>07 RENTALS - WALKUP APARTMENTS</td>\n",
       "    </tr>\n",
       "    <tr>\n",
       "      <th>...</th>\n",
       "      <td>...</td>\n",
       "      <td>...</td>\n",
       "      <td>...</td>\n",
       "    </tr>\n",
       "    <tr>\n",
       "      <th>83582</th>\n",
       "      <td>Staten Island</td>\n",
       "      <td>WOODROW</td>\n",
       "      <td>02 TWO FAMILY DWELLINGS</td>\n",
       "    </tr>\n",
       "    <tr>\n",
       "      <th>83583</th>\n",
       "      <td>Staten Island</td>\n",
       "      <td>WOODROW</td>\n",
       "      <td>02 TWO FAMILY DWELLINGS</td>\n",
       "    </tr>\n",
       "    <tr>\n",
       "      <th>83584</th>\n",
       "      <td>Staten Island</td>\n",
       "      <td>WOODROW</td>\n",
       "      <td>02 TWO FAMILY DWELLINGS</td>\n",
       "    </tr>\n",
       "    <tr>\n",
       "      <th>83585</th>\n",
       "      <td>Staten Island</td>\n",
       "      <td>WOODROW</td>\n",
       "      <td>22 STORE BUILDINGS</td>\n",
       "    </tr>\n",
       "    <tr>\n",
       "      <th>83586</th>\n",
       "      <td>Staten Island</td>\n",
       "      <td>WOODROW</td>\n",
       "      <td>35 INDOOR PUBLIC AND CULTURAL FACILITIES</td>\n",
       "    </tr>\n",
       "  </tbody>\n",
       "</table>\n",
       "<p>83587 rows × 3 columns</p>\n",
       "</div>"
      ],
      "text/plain": [
       "             BOROUGH   NEIGHBORHOOD  \\\n",
       "0          Manhattan  ALPHABET CITY   \n",
       "1          Manhattan  ALPHABET CITY   \n",
       "2          Manhattan  ALPHABET CITY   \n",
       "3          Manhattan  ALPHABET CITY   \n",
       "4          Manhattan  ALPHABET CITY   \n",
       "...              ...            ...   \n",
       "83582  Staten Island        WOODROW   \n",
       "83583  Staten Island        WOODROW   \n",
       "83584  Staten Island        WOODROW   \n",
       "83585  Staten Island        WOODROW   \n",
       "83586  Staten Island        WOODROW   \n",
       "\n",
       "                           BUILDING CLASS CATEGORY  \n",
       "0      07 RENTALS - WALKUP APARTMENTS               \n",
       "1      07 RENTALS - WALKUP APARTMENTS               \n",
       "2      07 RENTALS - WALKUP APARTMENTS               \n",
       "3      07 RENTALS - WALKUP APARTMENTS               \n",
       "4      07 RENTALS - WALKUP APARTMENTS               \n",
       "...                                            ...  \n",
       "83582  02 TWO FAMILY DWELLINGS                      \n",
       "83583  02 TWO FAMILY DWELLINGS                      \n",
       "83584  02 TWO FAMILY DWELLINGS                      \n",
       "83585  22 STORE BUILDINGS                           \n",
       "83586  35 INDOOR PUBLIC AND CULTURAL FACILITIES     \n",
       "\n",
       "[83587 rows x 3 columns]"
      ]
     },
     "execution_count": 28,
     "metadata": {},
     "output_type": "execute_result"
    }
   ],
   "source": [
    "data_modus = df_sales.loc[:,['BOROUGH', 'NEIGHBORHOOD', 'BUILDING CLASS CATEGORY']]\n",
    "data_modus"
   ]
  },
  {
   "cell_type": "markdown",
   "id": "dee0c37f",
   "metadata": {},
   "source": [
    "#### Melihat modus atau nilai yang sering muncul dari variabel 'data_modus'"
   ]
  },
  {
   "cell_type": "code",
   "execution_count": 29,
   "id": "4797e8da",
   "metadata": {},
   "outputs": [
    {
     "data": {
      "text/html": [
       "<div>\n",
       "<style scoped>\n",
       "    .dataframe tbody tr th:only-of-type {\n",
       "        vertical-align: middle;\n",
       "    }\n",
       "\n",
       "    .dataframe tbody tr th {\n",
       "        vertical-align: top;\n",
       "    }\n",
       "\n",
       "    .dataframe thead th {\n",
       "        text-align: right;\n",
       "    }\n",
       "</style>\n",
       "<table border=\"1\" class=\"dataframe\">\n",
       "  <thead>\n",
       "    <tr style=\"text-align: right;\">\n",
       "      <th></th>\n",
       "      <th>BOROUGH</th>\n",
       "      <th>NEIGHBORHOOD</th>\n",
       "      <th>BUILDING CLASS CATEGORY</th>\n",
       "    </tr>\n",
       "  </thead>\n",
       "  <tbody>\n",
       "    <tr>\n",
       "      <th>0</th>\n",
       "      <td>Queens</td>\n",
       "      <td>FLUSHING-NORTH</td>\n",
       "      <td>01 ONE FAMILY DWELLINGS</td>\n",
       "    </tr>\n",
       "  </tbody>\n",
       "</table>\n",
       "</div>"
      ],
      "text/plain": [
       "  BOROUGH    NEIGHBORHOOD                      BUILDING CLASS CATEGORY\n",
       "0  Queens  FLUSHING-NORTH  01 ONE FAMILY DWELLINGS                    "
      ]
     },
     "execution_count": 29,
     "metadata": {},
     "output_type": "execute_result"
    }
   ],
   "source": [
    "data_modus.mode()"
   ]
  },
  {
   "cell_type": "markdown",
   "id": "ad13dc61",
   "metadata": {},
   "source": [
    "**Kesimpulan**\n",
    "\n",
    "Berdasarkan data yang didapatkan diatas, maka\n",
    "- modus dari kolom `BOROUGH` yaitu Queens\n",
    "- modus dari kolom `NEIGHBORHOOD` yaitu FLUSHING-NORTH\n",
    "- modus dari kolom `BUILDING CLASS CATEGORY` yaitu 01 ONE FAMILY DWELLINGS"
   ]
  },
  {
   "cell_type": "markdown",
   "id": "c8fc5689",
   "metadata": {},
   "source": [
    "## Measure of Spread"
   ]
  },
  {
   "cell_type": "markdown",
   "id": "09af9be1",
   "metadata": {},
   "source": [
    "### Range"
   ]
  },
  {
   "cell_type": "markdown",
   "id": "660ac2ef",
   "metadata": {},
   "source": [
    "Membuat variabel 'data_spread' yang berisi nilai mean dari kolom `LAND SQUARE FEET` dan `GROSS SQUARE FEET` berdasarkan `BOROUGH`"
   ]
  },
  {
   "cell_type": "code",
   "execution_count": 30,
   "id": "88da2735",
   "metadata": {},
   "outputs": [
    {
     "data": {
      "text/html": [
       "<div>\n",
       "<style scoped>\n",
       "    .dataframe tbody tr th:only-of-type {\n",
       "        vertical-align: middle;\n",
       "    }\n",
       "\n",
       "    .dataframe tbody tr th {\n",
       "        vertical-align: top;\n",
       "    }\n",
       "\n",
       "    .dataframe thead th {\n",
       "        text-align: right;\n",
       "    }\n",
       "</style>\n",
       "<table border=\"1\" class=\"dataframe\">\n",
       "  <thead>\n",
       "    <tr style=\"text-align: right;\">\n",
       "      <th></th>\n",
       "      <th>LAND SQUARE FEET</th>\n",
       "      <th>GROSS SQUARE FEET</th>\n",
       "    </tr>\n",
       "    <tr>\n",
       "      <th>BOROUGH</th>\n",
       "      <th></th>\n",
       "      <th></th>\n",
       "    </tr>\n",
       "  </thead>\n",
       "  <tbody>\n",
       "    <tr>\n",
       "      <th>Bronx</th>\n",
       "      <td>3909.008163</td>\n",
       "      <td>4494.309609</td>\n",
       "    </tr>\n",
       "    <tr>\n",
       "      <th>Brooklyn</th>\n",
       "      <td>2012.465406</td>\n",
       "      <td>2478.438941</td>\n",
       "    </tr>\n",
       "    <tr>\n",
       "      <th>Manhattan</th>\n",
       "      <td>2624.832169</td>\n",
       "      <td>4643.633777</td>\n",
       "    </tr>\n",
       "    <tr>\n",
       "      <th>Queens</th>\n",
       "      <td>3616.733550</td>\n",
       "      <td>2703.465476</td>\n",
       "    </tr>\n",
       "    <tr>\n",
       "      <th>Staten Island</th>\n",
       "      <td>7675.834117</td>\n",
       "      <td>2196.219168</td>\n",
       "    </tr>\n",
       "  </tbody>\n",
       "</table>\n",
       "</div>"
      ],
      "text/plain": [
       "               LAND SQUARE FEET  GROSS SQUARE FEET\n",
       "BOROUGH                                           \n",
       "Bronx               3909.008163        4494.309609\n",
       "Brooklyn            2012.465406        2478.438941\n",
       "Manhattan           2624.832169        4643.633777\n",
       "Queens              3616.733550        2703.465476\n",
       "Staten Island       7675.834117        2196.219168"
      ]
     },
     "execution_count": 30,
     "metadata": {},
     "output_type": "execute_result"
    }
   ],
   "source": [
    "data_spread = df_sales[['BOROUGH','LAND SQUARE FEET','GROSS SQUARE FEET']].groupby('BOROUGH').mean()\n",
    "data_spread"
   ]
  },
  {
   "cell_type": "markdown",
   "id": "73fd9fe4",
   "metadata": {},
   "source": [
    "#### Range dari kolom `LAND SQUARE FEET` dan `GROSS SQUARE FEET`"
   ]
  },
  {
   "cell_type": "code",
   "execution_count": 31,
   "id": "4d49956f",
   "metadata": {},
   "outputs": [
    {
     "name": "stdout",
     "output_type": "stream",
     "text": [
      "Range LAND SQUARE FEET : 5663.368710510694\n",
      "Range GROSS SQUARE FEET : 2447.414608864671\n"
     ]
    }
   ],
   "source": [
    "range_lsf = np.ptp(data_spread['LAND SQUARE FEET'])\n",
    "range_gsf = np.ptp(data_spread['GROSS SQUARE FEET'])\n",
    "\n",
    "print(\"Range LAND SQUARE FEET :\", range_lsf)\n",
    "print(\"Range GROSS SQUARE FEET :\", range_gsf)"
   ]
  },
  {
   "cell_type": "markdown",
   "id": "8a1239d0",
   "metadata": {},
   "source": [
    "**Kesimpulan**\n",
    "\n",
    "Berdasarkan data yang didapatkan diatas, maka\n",
    "- range dari kolom `LAND SQUARE FEET` berdasarkan BOROUGH adalah : 5663.368710510694\n",
    "- range dari kolom `GROSS SQUARE FEET` berdasarkan BOROUGH adalah : 2447.414608864671"
   ]
  },
  {
   "cell_type": "markdown",
   "id": "3cdebe3d",
   "metadata": {},
   "source": [
    "### Variance"
   ]
  },
  {
   "cell_type": "markdown",
   "id": "74a6ded5",
   "metadata": {},
   "source": [
    "Menampilkan data_spread"
   ]
  },
  {
   "cell_type": "code",
   "execution_count": 32,
   "id": "6f1dc4da",
   "metadata": {
    "scrolled": true
   },
   "outputs": [
    {
     "data": {
      "text/html": [
       "<div>\n",
       "<style scoped>\n",
       "    .dataframe tbody tr th:only-of-type {\n",
       "        vertical-align: middle;\n",
       "    }\n",
       "\n",
       "    .dataframe tbody tr th {\n",
       "        vertical-align: top;\n",
       "    }\n",
       "\n",
       "    .dataframe thead th {\n",
       "        text-align: right;\n",
       "    }\n",
       "</style>\n",
       "<table border=\"1\" class=\"dataframe\">\n",
       "  <thead>\n",
       "    <tr style=\"text-align: right;\">\n",
       "      <th></th>\n",
       "      <th>LAND SQUARE FEET</th>\n",
       "      <th>GROSS SQUARE FEET</th>\n",
       "    </tr>\n",
       "    <tr>\n",
       "      <th>BOROUGH</th>\n",
       "      <th></th>\n",
       "      <th></th>\n",
       "    </tr>\n",
       "  </thead>\n",
       "  <tbody>\n",
       "    <tr>\n",
       "      <th>Bronx</th>\n",
       "      <td>3909.008163</td>\n",
       "      <td>4494.309609</td>\n",
       "    </tr>\n",
       "    <tr>\n",
       "      <th>Brooklyn</th>\n",
       "      <td>2012.465406</td>\n",
       "      <td>2478.438941</td>\n",
       "    </tr>\n",
       "    <tr>\n",
       "      <th>Manhattan</th>\n",
       "      <td>2624.832169</td>\n",
       "      <td>4643.633777</td>\n",
       "    </tr>\n",
       "    <tr>\n",
       "      <th>Queens</th>\n",
       "      <td>3616.733550</td>\n",
       "      <td>2703.465476</td>\n",
       "    </tr>\n",
       "    <tr>\n",
       "      <th>Staten Island</th>\n",
       "      <td>7675.834117</td>\n",
       "      <td>2196.219168</td>\n",
       "    </tr>\n",
       "  </tbody>\n",
       "</table>\n",
       "</div>"
      ],
      "text/plain": [
       "               LAND SQUARE FEET  GROSS SQUARE FEET\n",
       "BOROUGH                                           \n",
       "Bronx               3909.008163        4494.309609\n",
       "Brooklyn            2012.465406        2478.438941\n",
       "Manhattan           2624.832169        4643.633777\n",
       "Queens              3616.733550        2703.465476\n",
       "Staten Island       7675.834117        2196.219168"
      ]
     },
     "execution_count": 32,
     "metadata": {},
     "output_type": "execute_result"
    }
   ],
   "source": [
    "data_spread"
   ]
  },
  {
   "cell_type": "markdown",
   "id": "c91d7092",
   "metadata": {},
   "source": [
    "#### Variansi dari kolom `LAND SQUARE FEET` dan `GROSS SQUARE FEET`"
   ]
  },
  {
   "cell_type": "code",
   "execution_count": 33,
   "id": "e4d86723",
   "metadata": {},
   "outputs": [
    {
     "name": "stdout",
     "output_type": "stream",
     "text": [
      "Varians LAND SQUARE FEET : 4875779.2776673315\n",
      "Varians GROSS SQUARE FEET : 1370205.9190301765\n"
     ]
    }
   ],
   "source": [
    "variance_lsf = statistics.variance(data_spread['LAND SQUARE FEET'])\n",
    "variance_gsf = statistics.variance(data_spread['GROSS SQUARE FEET'])\n",
    "\n",
    "print(\"Varians LAND SQUARE FEET :\", variance_lsf)\n",
    "print(\"Varians GROSS SQUARE FEET :\", variance_gsf)"
   ]
  },
  {
   "cell_type": "markdown",
   "id": "7ebcd438",
   "metadata": {},
   "source": [
    "**Kesimpulan**\n",
    "\n",
    "Berdasarkan data yang didapatkan diatas, maka\n",
    "- varians dari kolom `LAND SQUARE FEET` berdasarkan BOROUGH adalah : 4875779.2776673315\n",
    "- varians dari kolom `GROSS SQUARE FEET` berdasarkan BOROUGH adalah : 1370205.9190301765"
   ]
  },
  {
   "cell_type": "markdown",
   "id": "488e4072",
   "metadata": {},
   "source": [
    "### Standard Deviation"
   ]
  },
  {
   "cell_type": "markdown",
   "id": "125858eb",
   "metadata": {},
   "source": [
    "Menampilkan data_spread"
   ]
  },
  {
   "cell_type": "code",
   "execution_count": 34,
   "id": "c02d5dae",
   "metadata": {
    "scrolled": true
   },
   "outputs": [
    {
     "data": {
      "text/html": [
       "<div>\n",
       "<style scoped>\n",
       "    .dataframe tbody tr th:only-of-type {\n",
       "        vertical-align: middle;\n",
       "    }\n",
       "\n",
       "    .dataframe tbody tr th {\n",
       "        vertical-align: top;\n",
       "    }\n",
       "\n",
       "    .dataframe thead th {\n",
       "        text-align: right;\n",
       "    }\n",
       "</style>\n",
       "<table border=\"1\" class=\"dataframe\">\n",
       "  <thead>\n",
       "    <tr style=\"text-align: right;\">\n",
       "      <th></th>\n",
       "      <th>LAND SQUARE FEET</th>\n",
       "      <th>GROSS SQUARE FEET</th>\n",
       "    </tr>\n",
       "    <tr>\n",
       "      <th>BOROUGH</th>\n",
       "      <th></th>\n",
       "      <th></th>\n",
       "    </tr>\n",
       "  </thead>\n",
       "  <tbody>\n",
       "    <tr>\n",
       "      <th>Bronx</th>\n",
       "      <td>3909.008163</td>\n",
       "      <td>4494.309609</td>\n",
       "    </tr>\n",
       "    <tr>\n",
       "      <th>Brooklyn</th>\n",
       "      <td>2012.465406</td>\n",
       "      <td>2478.438941</td>\n",
       "    </tr>\n",
       "    <tr>\n",
       "      <th>Manhattan</th>\n",
       "      <td>2624.832169</td>\n",
       "      <td>4643.633777</td>\n",
       "    </tr>\n",
       "    <tr>\n",
       "      <th>Queens</th>\n",
       "      <td>3616.733550</td>\n",
       "      <td>2703.465476</td>\n",
       "    </tr>\n",
       "    <tr>\n",
       "      <th>Staten Island</th>\n",
       "      <td>7675.834117</td>\n",
       "      <td>2196.219168</td>\n",
       "    </tr>\n",
       "  </tbody>\n",
       "</table>\n",
       "</div>"
      ],
      "text/plain": [
       "               LAND SQUARE FEET  GROSS SQUARE FEET\n",
       "BOROUGH                                           \n",
       "Bronx               3909.008163        4494.309609\n",
       "Brooklyn            2012.465406        2478.438941\n",
       "Manhattan           2624.832169        4643.633777\n",
       "Queens              3616.733550        2703.465476\n",
       "Staten Island       7675.834117        2196.219168"
      ]
     },
     "execution_count": 34,
     "metadata": {},
     "output_type": "execute_result"
    }
   ],
   "source": [
    "data_spread"
   ]
  },
  {
   "cell_type": "markdown",
   "id": "33d77a6e",
   "metadata": {},
   "source": [
    "#### Standard deviasi dari kolom `LAND SQUARE FEET` dan `GROSS SQUARE FEET`"
   ]
  },
  {
   "cell_type": "code",
   "execution_count": 35,
   "id": "c920a4ec",
   "metadata": {},
   "outputs": [
    {
     "name": "stdout",
     "output_type": "stream",
     "text": [
      "stdev LAND SQUARE FEET : 2208.1166811713847\n",
      "stdev GROSS SQUARE FEET : 1170.5579520169758\n"
     ]
    }
   ],
   "source": [
    "std_lsf = statistics.stdev(data_spread['LAND SQUARE FEET'])\n",
    "std_gsf = statistics.stdev(data_spread['GROSS SQUARE FEET'])\n",
    "\n",
    "print(\"stdev LAND SQUARE FEET :\", std_lsf)\n",
    "print(\"stdev GROSS SQUARE FEET :\", std_gsf)"
   ]
  },
  {
   "cell_type": "markdown",
   "id": "5abece21",
   "metadata": {},
   "source": [
    "**Kesimpulan**\n",
    "\n",
    "Berdasarkan data yang didapatkan diatas, maka\n",
    "- standard deviasi dari kolom `LAND SQUARE FEET` berdasarkan BOROUGH adalah : 2208.1166811713847\n",
    "- standard deviasi dari kolom `GROSS SQUARE FEET` berdasarkan BOROUGH adalah : 1170.5579520169758"
   ]
  },
  {
   "cell_type": "markdown",
   "id": "2b2052ab",
   "metadata": {},
   "source": [
    "## Probability Distribution"
   ]
  },
  {
   "cell_type": "markdown",
   "id": "1d4ea930",
   "metadata": {},
   "source": [
    "Membuat variabel df_dist yang berisi kolom `BOROUGH`, `BLOCK`, `LOT`, `SALE PRICE`, `TAX CLASS AT TIME OF SALE`"
   ]
  },
  {
   "cell_type": "code",
   "execution_count": 40,
   "id": "596a7b15",
   "metadata": {},
   "outputs": [
    {
     "data": {
      "text/html": [
       "<div>\n",
       "<style scoped>\n",
       "    .dataframe tbody tr th:only-of-type {\n",
       "        vertical-align: middle;\n",
       "    }\n",
       "\n",
       "    .dataframe tbody tr th {\n",
       "        vertical-align: top;\n",
       "    }\n",
       "\n",
       "    .dataframe thead th {\n",
       "        text-align: right;\n",
       "    }\n",
       "</style>\n",
       "<table border=\"1\" class=\"dataframe\">\n",
       "  <thead>\n",
       "    <tr style=\"text-align: right;\">\n",
       "      <th></th>\n",
       "      <th>BOROUGH</th>\n",
       "      <th>BLOCK</th>\n",
       "      <th>LOT</th>\n",
       "      <th>SALE PRICE</th>\n",
       "      <th>TAX CLASS AT TIME OF SALE</th>\n",
       "    </tr>\n",
       "  </thead>\n",
       "  <tbody>\n",
       "    <tr>\n",
       "      <th>0</th>\n",
       "      <td>Manhattan</td>\n",
       "      <td>392</td>\n",
       "      <td>6</td>\n",
       "      <td>6625000.0</td>\n",
       "      <td>2</td>\n",
       "    </tr>\n",
       "    <tr>\n",
       "      <th>1</th>\n",
       "      <td>Manhattan</td>\n",
       "      <td>399</td>\n",
       "      <td>26</td>\n",
       "      <td>530000.0</td>\n",
       "      <td>2</td>\n",
       "    </tr>\n",
       "    <tr>\n",
       "      <th>2</th>\n",
       "      <td>Manhattan</td>\n",
       "      <td>399</td>\n",
       "      <td>39</td>\n",
       "      <td>530000.0</td>\n",
       "      <td>2</td>\n",
       "    </tr>\n",
       "    <tr>\n",
       "      <th>3</th>\n",
       "      <td>Manhattan</td>\n",
       "      <td>402</td>\n",
       "      <td>21</td>\n",
       "      <td>3936272.0</td>\n",
       "      <td>2</td>\n",
       "    </tr>\n",
       "    <tr>\n",
       "      <th>4</th>\n",
       "      <td>Manhattan</td>\n",
       "      <td>404</td>\n",
       "      <td>55</td>\n",
       "      <td>8000000.0</td>\n",
       "      <td>2</td>\n",
       "    </tr>\n",
       "  </tbody>\n",
       "</table>\n",
       "</div>"
      ],
      "text/plain": [
       "     BOROUGH  BLOCK  LOT  SALE PRICE TAX CLASS AT TIME OF SALE\n",
       "0  Manhattan    392    6   6625000.0                         2\n",
       "1  Manhattan    399   26    530000.0                         2\n",
       "2  Manhattan    399   39    530000.0                         2\n",
       "3  Manhattan    402   21   3936272.0                         2\n",
       "4  Manhattan    404   55   8000000.0                         2"
      ]
     },
     "execution_count": 40,
     "metadata": {},
     "output_type": "execute_result"
    }
   ],
   "source": [
    "df_dist = df_sales.loc[:, ['BOROUGH', 'BLOCK', 'LOT', 'SALE PRICE', 'TAX CLASS AT TIME OF SALE']]\n",
    "df_dist.head()"
   ]
  },
  {
   "cell_type": "markdown",
   "id": "9db076d7",
   "metadata": {},
   "source": [
    "#### Histogram untuk menampilkan probability distribution dari df_dist"
   ]
  },
  {
   "cell_type": "code",
   "execution_count": 41,
   "id": "2edc574e",
   "metadata": {
    "scrolled": false
   },
   "outputs": [
    {
     "data": {
      "image/png": "[encoded data removed]",
      "text/plain": [
       "<Figure size 800x600 with 1 Axes>"
      ]
     },
     "metadata": {},
     "output_type": "display_data"
    },
    {
     "data": {
      "image/png": "[encoded data removed]",
      "text/plain": [
       "<Figure size 800x600 with 1 Axes>"
      ]
     },
     "metadata": {},
     "output_type": "display_data"
    },
    {
     "data": {
      "image/png": "[encoded data removed]",
      "text/plain": [
       "<Figure size 800x600 with 1 Axes>"
      ]
     },
     "metadata": {},
     "output_type": "display_data"
    },
    {
     "data": {
      "image/png": "[encoded data removed]",
      "text/plain": [
       "<Figure size 800x600 with 1 Axes>"
      ]
     },
     "metadata": {},
     "output_type": "display_data"
    },
    {
     "data": {
      "image/png": "[encoded data removed]",
      "text/plain": [
       "<Figure size 800x600 with 1 Axes>"
      ]
     },
     "metadata": {},
     "output_type": "display_data"
    }
   ],
   "source": [
    "for col in df_dist:\n",
    "    plt.figure(figsize=(8,6))\n",
    "    sns.histplot(data=df_dist, x=col, kde=True, stat=\"density\", linewidth=0, color='lightcoral')\n",
    "    plt.title(\"Probability Distribution of {}\".format(col))\n",
    "    plt.xlabel(col)\n",
    "    plt.ylabel(\"Density\")\n",
    "    plt.show()"
   ]
  },
  {
   "cell_type": "markdown",
   "id": "efc3d634",
   "metadata": {},
   "source": [
    "**Kesimpulan**\n",
    "\n",
    "Berdasarkan tampilan histogram diatas, maka dapat disimpulkan bahwa\n",
    "- kolom LOT dan SALE PRICE berdistribusi eksponensial\n",
    "- kolom BOROUGH, BLOCK, dan TAX CLASS AT TIME OF SALE berdistribusi gamma"
   ]
  },
  {
   "cell_type": "markdown",
   "id": "2e55f8dc",
   "metadata": {},
   "source": [
    "## Confidence Intervals"
   ]
  },
  {
   "cell_type": "markdown",
   "id": "f1906d88",
   "metadata": {},
   "source": [
    "### Calculation CI of Mean"
   ]
  },
  {
   "cell_type": "markdown",
   "id": "0d371b8e",
   "metadata": {},
   "source": [
    "#### Menghitung CI untuk mean SALE PRICE pada wilayah Brooklyn"
   ]
  },
  {
   "cell_type": "markdown",
   "id": "f28db820",
   "metadata": {},
   "source": [
    "Membuat df_CI yang menampilkan nilai mean, std, dan size dari `SALE PRICE`"
   ]
  },
  {
   "cell_type": "code",
   "execution_count": 42,
   "id": "fe5849f1",
   "metadata": {
    "scrolled": false
   },
   "outputs": [
    {
     "data": {
      "text/html": [
       "<div>\n",
       "<style scoped>\n",
       "    .dataframe tbody tr th:only-of-type {\n",
       "        vertical-align: middle;\n",
       "    }\n",
       "\n",
       "    .dataframe tbody tr th {\n",
       "        vertical-align: top;\n",
       "    }\n",
       "\n",
       "    .dataframe thead tr th {\n",
       "        text-align: left;\n",
       "    }\n",
       "\n",
       "    .dataframe thead tr:last-of-type th {\n",
       "        text-align: right;\n",
       "    }\n",
       "</style>\n",
       "<table border=\"1\" class=\"dataframe\">\n",
       "  <thead>\n",
       "    <tr>\n",
       "      <th></th>\n",
       "      <th colspan=\"3\" halign=\"left\">SALE PRICE</th>\n",
       "    </tr>\n",
       "    <tr>\n",
       "      <th></th>\n",
       "      <th>mean</th>\n",
       "      <th>std</th>\n",
       "      <th>size</th>\n",
       "    </tr>\n",
       "    <tr>\n",
       "      <th>BOROUGH</th>\n",
       "      <th></th>\n",
       "      <th></th>\n",
       "      <th></th>\n",
       "    </tr>\n",
       "  </thead>\n",
       "  <tbody>\n",
       "    <tr>\n",
       "      <th>Bronx</th>\n",
       "      <td>5.955543e+05</td>\n",
       "      <td>2.795621e+06</td>\n",
       "      <td>6983</td>\n",
       "    </tr>\n",
       "    <tr>\n",
       "      <th>Brooklyn</th>\n",
       "      <td>8.423449e+05</td>\n",
       "      <td>3.954935e+06</td>\n",
       "      <td>23805</td>\n",
       "    </tr>\n",
       "    <tr>\n",
       "      <th>Manhattan</th>\n",
       "      <td>2.773636e+06</td>\n",
       "      <td>2.158396e+07</td>\n",
       "      <td>18030</td>\n",
       "    </tr>\n",
       "    <tr>\n",
       "      <th>Queens</th>\n",
       "      <td>6.753599e+05</td>\n",
       "      <td>2.693043e+06</td>\n",
       "      <td>26474</td>\n",
       "    </tr>\n",
       "    <tr>\n",
       "      <th>Staten Island</th>\n",
       "      <td>5.398224e+05</td>\n",
       "      <td>1.618722e+06</td>\n",
       "      <td>8295</td>\n",
       "    </tr>\n",
       "  </tbody>\n",
       "</table>\n",
       "</div>"
      ],
      "text/plain": [
       "                 SALE PRICE                     \n",
       "                       mean           std   size\n",
       "BOROUGH                                         \n",
       "Bronx          5.955543e+05  2.795621e+06   6983\n",
       "Brooklyn       8.423449e+05  3.954935e+06  23805\n",
       "Manhattan      2.773636e+06  2.158396e+07  18030\n",
       "Queens         6.753599e+05  2.693043e+06  26474\n",
       "Staten Island  5.398224e+05  1.618722e+06   8295"
      ]
     },
     "execution_count": 42,
     "metadata": {},
     "output_type": "execute_result"
    }
   ],
   "source": [
    "CI_mean = df_sales.groupby('BOROUGH').agg({'SALE PRICE': [np.mean, np.std, np.size]})\n",
    "CI_mean"
   ]
  },
  {
   "cell_type": "markdown",
   "id": "337c6a66",
   "metadata": {},
   "source": [
    "Mengekstrak parameter yang diperlukan (menggunakan data pada wilayah Brooklyn)\n",
    "\n",
    "z-score yang digunakan adalah 1.96 untuk confidence interval 95%"
   ]
  },
  {
   "cell_type": "code",
   "execution_count": 43,
   "id": "3bca5d31",
   "metadata": {},
   "outputs": [],
   "source": [
    "mean_sp = CI_mean.iloc[1,0]\n",
    "sd = CI_mean.iloc [1,1]\n",
    "n = CI_mean.iloc [1,2]         \n",
    "z = 1.96  "
   ]
  },
  {
   "cell_type": "markdown",
   "id": "c6e38b53",
   "metadata": {},
   "source": [
    "Menghitung standard error dari sample mean menggunakan rumus:\n",
    "\n",
    "<img src=\"https://i.ibb.co/DgFTNrm/s10-09.png\" width=\"500\" align=\"center\">"
   ]
  },
  {
   "cell_type": "code",
   "execution_count": 44,
   "id": "5f17251a",
   "metadata": {},
   "outputs": [
    {
     "data": {
      "text/plain": [
       "25633.342750683118"
      ]
     },
     "execution_count": 44,
     "metadata": {},
     "output_type": "execute_result"
    }
   ],
   "source": [
    "se = sd / np.sqrt(n)\n",
    "se"
   ]
  },
  {
   "cell_type": "markdown",
   "id": "a22e4b0a",
   "metadata": {},
   "source": [
    "Menghitung lower limit dan upper limit dari CI"
   ]
  },
  {
   "cell_type": "code",
   "execution_count": 45,
   "id": "70ebe97a",
   "metadata": {},
   "outputs": [
    {
     "data": {
      "text/plain": [
       "(792103.5695697197, 892586.2731523975)"
      ]
     },
     "execution_count": 45,
     "metadata": {},
     "output_type": "execute_result"
    }
   ],
   "source": [
    "lcb = mean_sp - z * se\n",
    "ucb = mean_sp + z * se\n",
    "lcb, ucb"
   ]
  },
  {
   "cell_type": "markdown",
   "id": "9b042c61",
   "metadata": {},
   "source": [
    "**Kesimpulan**\n",
    "\n",
    "- Standard error untuk mean yaitu 25633.342750683118\n",
    "- Upper limit dari CI yaitu 892586.2731523975\n",
    "- Lower limit dari CI yaitu 792103.5695697197\n",
    "- Rata-rata sebenarnya dari SALE PRICE di wilayah Brooklyn akan jatuh antara 792103.5695697197 dan 892586.2731523975"
   ]
  },
  {
   "cell_type": "markdown",
   "id": "9da8b20d",
   "metadata": {},
   "source": [
    "### Calculation of CI for Population Proportion"
   ]
  },
  {
   "cell_type": "markdown",
   "id": "3d0c0408",
   "metadata": {},
   "source": [
    "#### CI for Population Proportion Bangunan di Manhattan dengan Pajak Tingkat 1"
   ]
  },
  {
   "cell_type": "markdown",
   "id": "cce754c2",
   "metadata": {},
   "source": [
    "Membuat variabel df_tax yang berisi kolom `TAX CLASS AT TIME OF SALE` dan `BOROUGH`"
   ]
  },
  {
   "cell_type": "code",
   "execution_count": 46,
   "id": "a49725f7",
   "metadata": {},
   "outputs": [
    {
     "data": {
      "text/html": [
       "<div>\n",
       "<style scoped>\n",
       "    .dataframe tbody tr th:only-of-type {\n",
       "        vertical-align: middle;\n",
       "    }\n",
       "\n",
       "    .dataframe tbody tr th {\n",
       "        vertical-align: top;\n",
       "    }\n",
       "\n",
       "    .dataframe thead th {\n",
       "        text-align: right;\n",
       "    }\n",
       "</style>\n",
       "<table border=\"1\" class=\"dataframe\">\n",
       "  <thead>\n",
       "    <tr style=\"text-align: right;\">\n",
       "      <th></th>\n",
       "      <th>TAX CLASS AT TIME OF SALE</th>\n",
       "      <th>BOROUGH</th>\n",
       "    </tr>\n",
       "  </thead>\n",
       "  <tbody>\n",
       "    <tr>\n",
       "      <th>0</th>\n",
       "      <td>2</td>\n",
       "      <td>Manhattan</td>\n",
       "    </tr>\n",
       "    <tr>\n",
       "      <th>1</th>\n",
       "      <td>2</td>\n",
       "      <td>Manhattan</td>\n",
       "    </tr>\n",
       "    <tr>\n",
       "      <th>2</th>\n",
       "      <td>2</td>\n",
       "      <td>Manhattan</td>\n",
       "    </tr>\n",
       "    <tr>\n",
       "      <th>3</th>\n",
       "      <td>2</td>\n",
       "      <td>Manhattan</td>\n",
       "    </tr>\n",
       "    <tr>\n",
       "      <th>4</th>\n",
       "      <td>2</td>\n",
       "      <td>Manhattan</td>\n",
       "    </tr>\n",
       "  </tbody>\n",
       "</table>\n",
       "</div>"
      ],
      "text/plain": [
       "  TAX CLASS AT TIME OF SALE    BOROUGH\n",
       "0                         2  Manhattan\n",
       "1                         2  Manhattan\n",
       "2                         2  Manhattan\n",
       "3                         2  Manhattan\n",
       "4                         2  Manhattan"
      ]
     },
     "execution_count": 46,
     "metadata": {},
     "output_type": "execute_result"
    }
   ],
   "source": [
    "df_tax = df_sales.loc[:,['TAX CLASS AT TIME OF SALE', 'BOROUGH']]\n",
    "df_tax.head()"
   ]
  },
  {
   "cell_type": "markdown",
   "id": "0fa29a17",
   "metadata": {},
   "source": [
    "Mengganti nama kolom menjadi `tax` dan `wilayah`"
   ]
  },
  {
   "cell_type": "code",
   "execution_count": 47,
   "id": "72eb0d5d",
   "metadata": {},
   "outputs": [
    {
     "data": {
      "text/plain": [
       "Index(['tax', 'wilayah'], dtype='object')"
      ]
     },
     "execution_count": 47,
     "metadata": {},
     "output_type": "execute_result"
    }
   ],
   "source": [
    "df_tax.rename(columns={'TAX CLASS AT TIME OF SALE':'tax', 'BOROUGH':'wilayah'}, inplace=True)\n",
    "df_tax.columns"
   ]
  },
  {
   "cell_type": "markdown",
   "id": "2c5762e1",
   "metadata": {},
   "source": [
    "Menampilkan jumlah bangunan di seluruh wilayah pada setiap tingkatan pajak"
   ]
  },
  {
   "cell_type": "code",
   "execution_count": 48,
   "id": "1f872962",
   "metadata": {},
   "outputs": [
    {
     "data": {
      "text/html": [
       "<div>\n",
       "<style scoped>\n",
       "    .dataframe tbody tr th:only-of-type {\n",
       "        vertical-align: middle;\n",
       "    }\n",
       "\n",
       "    .dataframe tbody tr th {\n",
       "        vertical-align: top;\n",
       "    }\n",
       "\n",
       "    .dataframe thead th {\n",
       "        text-align: right;\n",
       "    }\n",
       "</style>\n",
       "<table border=\"1\" class=\"dataframe\">\n",
       "  <thead>\n",
       "    <tr style=\"text-align: right;\">\n",
       "      <th>wilayah</th>\n",
       "      <th>Bronx</th>\n",
       "      <th>Brooklyn</th>\n",
       "      <th>Manhattan</th>\n",
       "      <th>Queens</th>\n",
       "      <th>Staten Island</th>\n",
       "    </tr>\n",
       "    <tr>\n",
       "      <th>tax</th>\n",
       "      <th></th>\n",
       "      <th></th>\n",
       "      <th></th>\n",
       "      <th></th>\n",
       "      <th></th>\n",
       "    </tr>\n",
       "  </thead>\n",
       "  <tbody>\n",
       "    <tr>\n",
       "      <th>1</th>\n",
       "      <td>4365</td>\n",
       "      <td>12556</td>\n",
       "      <td>347</td>\n",
       "      <td>16367</td>\n",
       "      <td>7519</td>\n",
       "    </tr>\n",
       "    <tr>\n",
       "      <th>2</th>\n",
       "      <td>2095</td>\n",
       "      <td>9027</td>\n",
       "      <td>16422</td>\n",
       "      <td>8370</td>\n",
       "      <td>425</td>\n",
       "    </tr>\n",
       "    <tr>\n",
       "      <th>3</th>\n",
       "      <td>2</td>\n",
       "      <td>0</td>\n",
       "      <td>1</td>\n",
       "      <td>0</td>\n",
       "      <td>0</td>\n",
       "    </tr>\n",
       "    <tr>\n",
       "      <th>4</th>\n",
       "      <td>521</td>\n",
       "      <td>2222</td>\n",
       "      <td>1260</td>\n",
       "      <td>1737</td>\n",
       "      <td>351</td>\n",
       "    </tr>\n",
       "  </tbody>\n",
       "</table>\n",
       "</div>"
      ],
      "text/plain": [
       "wilayah  Bronx  Brooklyn  Manhattan  Queens  Staten Island\n",
       "tax                                                       \n",
       "1         4365     12556        347   16367           7519\n",
       "2         2095      9027      16422    8370            425\n",
       "3            2         0          1       0              0\n",
       "4          521      2222       1260    1737            351"
      ]
     },
     "execution_count": 48,
     "metadata": {},
     "output_type": "execute_result"
    }
   ],
   "source": [
    "pd_cross = pd.crosstab(df_tax.tax, df_tax.wilayah)\n",
    "pd_cross"
   ]
  },
  {
   "cell_type": "markdown",
   "id": "673cfd87",
   "metadata": {},
   "source": [
    "Membuat variabel 'queens' yang berisi jumlah bangunan di wilayah Queens dengan tingkat pajak 1  "
   ]
  },
  {
   "cell_type": "code",
   "execution_count": 49,
   "id": "ff269675",
   "metadata": {},
   "outputs": [
    {
     "data": {
      "text/plain": [
       "16367"
      ]
     },
     "execution_count": 49,
     "metadata": {},
     "output_type": "execute_result"
    }
   ],
   "source": [
    "queens = pd_cross.Queens[1]\n",
    "queens"
   ]
  },
  {
   "cell_type": "markdown",
   "id": "a71a1097",
   "metadata": {},
   "source": [
    "Bangunan di wilayah Queens dengan tingkat pajak 1 berjumlah 16367"
   ]
  },
  {
   "cell_type": "markdown",
   "id": "e4ec29e8",
   "metadata": {},
   "source": [
    "Menghitung jumlah bangunan di wilayah Queens"
   ]
  },
  {
   "cell_type": "code",
   "execution_count": 50,
   "id": "5a102b41",
   "metadata": {},
   "outputs": [
    {
     "data": {
      "text/plain": [
       "26474"
      ]
     },
     "execution_count": 50,
     "metadata": {},
     "output_type": "execute_result"
    }
   ],
   "source": [
    "n = pd_cross.Queens.sum()\n",
    "n"
   ]
  },
  {
   "cell_type": "markdown",
   "id": "27b339ff",
   "metadata": {},
   "source": [
    "Menghitung proporsi bangunan di wilayah Queens dengan tingkat pajak 1"
   ]
  },
  {
   "cell_type": "code",
   "execution_count": 51,
   "id": "d167acaa",
   "metadata": {},
   "outputs": [
    {
     "data": {
      "text/plain": [
       "0.6182292060134471"
      ]
     },
     "execution_count": 51,
     "metadata": {},
     "output_type": "execute_result"
    }
   ],
   "source": [
    "p_queens = queens/n\n",
    "p_queens"
   ]
  },
  {
   "cell_type": "markdown",
   "id": "7ac9ffe3",
   "metadata": {},
   "source": [
    "Menghitung standard error dari population proportion dengan rumus:\n",
    "\n",
    "<img src=\"https://i.ibb.co/JKJwgpJ/s10-08.png\" width=\"500\" align=\"center\">"
   ]
  },
  {
   "cell_type": "code",
   "execution_count": 52,
   "id": "471a0d1b",
   "metadata": {},
   "outputs": [
    {
     "data": {
      "text/plain": [
       "0.002985838593877589"
      ]
     },
     "execution_count": 52,
     "metadata": {},
     "output_type": "execute_result"
    }
   ],
   "source": [
    "se_queens = np.sqrt(p_queens * (1-p_queens)/n)\n",
    "se_queens"
   ]
  },
  {
   "cell_type": "markdown",
   "id": "9f3f99b1",
   "metadata": {},
   "source": [
    "z-score yang digunakan adalah 1.96 untuk confidence interval 95%"
   ]
  },
  {
   "cell_type": "code",
   "execution_count": 53,
   "id": "fb1145e1",
   "metadata": {},
   "outputs": [
    {
     "data": {
      "text/plain": [
       "(0.6123770699057973, 0.6240813421210969)"
      ]
     },
     "execution_count": 53,
     "metadata": {},
     "output_type": "execute_result"
    }
   ],
   "source": [
    "z_score = 1.96\n",
    "\n",
    "# menghitung CI menggunakan library statsmodel\n",
    "sm.stats.proportion_confint(n*p_queens, n)"
   ]
  },
  {
   "cell_type": "markdown",
   "id": "eb139aa9",
   "metadata": {},
   "source": [
    "**Kesimpulan**\n",
    "\n",
    "- Proporsi bangunan di wilayah Queens dengan tingkat pajak 1 yaitu 0.6182292060134471\n",
    "- Standard error dari population proportion yaitu 0.002985838593877589\n",
    "- Upper limit dari CI yaitu 0.6123770699057973\n",
    "- Lower limit dari CI yaitu 0.6240813421210969\n",
    "- Rata-rata sebenarnya dari proporsi bangunan di wilayah Queens dengan tingkat pajak 1 akan jatuh antara 0.6123770699057973 dan 0.6240813421210969"
   ]
  },
  {
   "cell_type": "markdown",
   "id": "d05f3921",
   "metadata": {},
   "source": [
    "## Hypothesis Testing"
   ]
  },
  {
   "cell_type": "markdown",
   "id": "991fcaa1",
   "metadata": {},
   "source": [
    "### Difference in Population Means"
   ]
  },
  {
   "cell_type": "markdown",
   "id": "eb88bab1",
   "metadata": {},
   "source": [
    "#### Apakah rata-rata sale price di Manhattan lebih besar daripada wilayah Bronx?"
   ]
  },
  {
   "cell_type": "markdown",
   "id": "5db93d32",
   "metadata": {},
   "source": [
    "Membuat variabel manhattan dan bronx"
   ]
  },
  {
   "cell_type": "code",
   "execution_count": 70,
   "id": "457419ac",
   "metadata": {},
   "outputs": [],
   "source": [
    "manhattan = df_sales[df_sales['BOROUGH'] == 'Manhattan']\n",
    "bronx = df_sales[df_sales['BOROUGH'] == 'Bronx']"
   ]
  },
  {
   "cell_type": "markdown",
   "id": "39850f0a",
   "metadata": {},
   "source": [
    "Menghitung nilai mean dan standard deviasi dari 'manhattan' dan 'bronx'"
   ]
  },
  {
   "cell_type": "code",
   "execution_count": 74,
   "id": "aea517a4",
   "metadata": {},
   "outputs": [
    {
     "name": "stdout",
     "output_type": "stream",
     "text": [
      "-----MANHATTAN-----\n",
      "Total data : 18030\n",
      "Nilai mean : 2773636.009927898\n",
      "Nilai standard deviasi : 21583957.7143914\n"
     ]
    }
   ],
   "source": [
    "n1 = len(manhattan)\n",
    "m1 = manhattan['SALE PRICE'].mean()\n",
    "sd1 = manhattan['SALE PRICE'].std()\n",
    "\n",
    "print(\"-----MANHATTAN-----\")\n",
    "print(\"Total data :\", n1)\n",
    "print(\"Nilai mean :\", m1)\n",
    "print(\"Nilai standard deviasi :\", sd1)"
   ]
  },
  {
   "cell_type": "code",
   "execution_count": 75,
   "id": "ed45880b",
   "metadata": {},
   "outputs": [
    {
     "name": "stdout",
     "output_type": "stream",
     "text": [
      "-----BRONX-----\n",
      "Total data : 6983\n",
      "Nilai mean : 595554.3127595589\n",
      "Nilai standard deviasi : 2795620.618749152\n"
     ]
    }
   ],
   "source": [
    "n2 = len(bronx)\n",
    "m2 = bronx['SALE PRICE'].mean()\n",
    "sd2 = bronx['SALE PRICE'].std()\n",
    "\n",
    "print(\"-----BRONX-----\")\n",
    "print(\"Total data :\", n2)\n",
    "print(\"Nilai mean :\", m2)\n",
    "print(\"Nilai standard deviasi :\", sd2)"
   ]
  },
  {
   "cell_type": "markdown",
   "id": "d1242c6d",
   "metadata": {},
   "source": [
    "Menghitung nilai z-test \n",
    "\n",
    "menggunakan alternative='two-sided' untuk memeriksa ketidaksamaan"
   ]
  },
  {
   "cell_type": "code",
   "execution_count": 76,
   "id": "2196b15d",
   "metadata": {},
   "outputs": [
    {
     "data": {
      "text/plain": [
       "(8.405287573047548, 4.268144482554359e-17)"
      ]
     },
     "execution_count": 76,
     "metadata": {},
     "output_type": "execute_result"
    }
   ],
   "source": [
    "sm.stats.ztest(manhattan['SALE PRICE'].dropna(), \n",
    "               bronx['SALE PRICE'].dropna(),\n",
    "               alternative='two-sided'\n",
    "              )"
   ]
  },
  {
   "cell_type": "markdown",
   "id": "a7a2aa4a",
   "metadata": {},
   "source": [
    "Memplot histogram untuk memeriksa apakah distibusinya mengikuti distribusi normal"
   ]
  },
  {
   "cell_type": "code",
   "execution_count": 78,
   "id": "512053b4",
   "metadata": {},
   "outputs": [
    {
     "data": {
      "image/png": "[encoded data removed]",
      "text/plain": [
       "<Figure size 700x400 with 1 Axes>"
      ]
     },
     "metadata": {},
     "output_type": "display_data"
    },
    {
     "data": {
      "image/png": "[encoded data removed]",
      "text/plain": [
       "<Figure size 700x400 with 1 Axes>"
      ]
     },
     "metadata": {},
     "output_type": "display_data"
    }
   ],
   "source": [
    "plt.figure(figsize=(7,4))\n",
    "plt.title(\"Sale Price of Manhattan Histogram\",fontsize=16)\n",
    "plt.hist(manhattan['SALE PRICE'].dropna(), edgecolor='k',color='red',bins=25)\n",
    "plt.show()\n",
    "\n",
    "plt.figure(figsize=(7,4))\n",
    "plt.title(\"Sale Price of Bronx Histogram\",fontsize=16)\n",
    "plt.hist(bronx['SALE PRICE'].dropna(), edgecolor='k',color='blue',bins=25)\n",
    "plt.show()"
   ]
  },
  {
   "cell_type": "markdown",
   "id": "87291a3a",
   "metadata": {},
   "source": [
    "**Kesimpulan**\n",
    "\n",
    "Berdasarkan data yang didapatkan diatas, maka dapat disimpulkan bahwa\n",
    "- population = sale price pada dataset NYC property data\n",
    "- parameter of interest = m1, m2, sale price\n",
    "- H0 = rata-rata harga jual di wilayah Manhattan **sama** dengan rata-rata harga jual di wilayah Bronx\n",
    "- H1 = rata-rata harga jual di wilayah Manhattan **tidak sama** dengan rata-rata harga jual di wilayah Bronx\n",
    "- data yang didapatkan:\n",
    "  - **MANHATTAN**\n",
    "  - Total data : 18030\n",
    "  - Nilai mean : 2773636.009927898\n",
    "  - Nilai standard deviasi : 21583957.7143914\n",
    "  - **BRONX**\n",
    "  - Total data : 6983\n",
    "  - Nilai mean : 595554.3127595589\n",
    "  - Nilai standard deviasi : 2795620.618749152\n",
    "- hasil ztest = (8.405287573047548, 4.268144482554359e-17)  \n",
    "- karena p-value (4.26e-17) sangat kecil, maka keputusannya adalah menolak H0 dan menerima H1\n",
    "- rata-rata harga jual di wilayah Manhattan tidak sama dengan rata-rata harga jual di wilayah Bronx\n",
    "- berdasarkan histogram yang didapatkan,  hasilnya tidak berdistribusi normal"
   ]
  },
  {
   "cell_type": "markdown",
   "id": "10e1314a",
   "metadata": {},
   "source": [
    "___"
   ]
  }
 ],
 "metadata": {
  "kernelspec": {
   "display_name": "Python 3 (ipykernel)",
   "language": "python",
   "name": "python3"
  },
  "language_info": {
   "codemirror_mode": {
    "name": "ipython",
    "version": 3
   },
   "file_extension": ".py",
   "mimetype": "text/x-python",
   "name": "python",
   "nbconvert_exporter": "python",
   "pygments_lexer": "ipython3",
   "version": "3.9.13"
  },
  "toc": {
   "base_numbering": 1,
   "nav_menu": {},
   "number_sections": false,
   "sideBar": true,
   "skip_h1_title": false,
   "title_cell": "Table of Contents",
   "title_sidebar": "Contents",
   "toc_cell": false,
   "toc_position": {
    "height": "128.667px",
    "left": "121px",
    "top": "110.806px",
    "width": "610.222px"
   },
   "toc_section_display": true,
   "toc_window_display": false
  }
 },
 "nbformat": 4,
 "nbformat_minor": 5
}
